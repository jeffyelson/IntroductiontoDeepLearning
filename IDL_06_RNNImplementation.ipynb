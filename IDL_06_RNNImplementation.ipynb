{
  "cells": [
    {
      "cell_type": "markdown",
      "metadata": {
        "id": "view-in-github",
        "colab_type": "text"
      },
      "source": [
        "<a href=\"https://colab.research.google.com/github/jeffyelson/IntroductiontoDeepLearning/blob/main/IDL_06_RNNImplementation.ipynb\" target=\"_parent\"><img src=\"https://colab.research.google.com/assets/colab-badge.svg\" alt=\"Open In Colab\"/></a>"
      ]
    },
    {
      "cell_type": "code",
      "execution_count": null,
      "metadata": {
        "id": "snZVFgU91tAW"
      },
      "outputs": [],
      "source": [
        "import tensorflow as tf\n",
        "import numpy as np\n",
        "from matplotlib import pyplot as plt"
      ]
    },
    {
      "cell_type": "code",
      "execution_count": null,
      "metadata": {
        "id": "umqeq6w632Ng",
        "colab": {
          "base_uri": "https://localhost:8080/"
        },
        "outputId": "43781193-27f7-47f1-8e5f-d6fa25bf465a"
      },
      "outputs": [
        {
          "output_type": "stream",
          "name": "stdout",
          "text": [
            "Downloading data from https://storage.googleapis.com/tensorflow/tf-keras-datasets/imdb.npz\n",
            "17464789/17464789 [==============================] - 0s 0us/step\n"
          ]
        }
      ],
      "source": [
        "max_words = 20000\n",
        "max_len = 200\n",
        "\n",
        "(train_sequences, train_labels), (test_sequences, test_labels) = tf.keras.datasets.imdb.load_data(num_words=max_words)\n",
        "\n",
        "\n",
        "def preprocess(sequences, labels):\n",
        "    return sequences, labels.astype(np.int32)\n",
        "\n",
        "train_sequences, train_labels = preprocess(train_sequences, train_labels)\n",
        "test_sequences, test_labels = preprocess(test_sequences, test_labels)"
      ]
    },
    {
      "cell_type": "code",
      "execution_count": null,
      "metadata": {
        "id": "aHJA6HJm33km",
        "colab": {
          "base_uri": "https://localhost:8080/"
        },
        "outputId": "adf72739-8b11-4dce-a3c6-d72656424dc5"
      },
      "outputs": [
        {
          "output_type": "stream",
          "name": "stdout",
          "text": [
            "Downloading data from https://storage.googleapis.com/tensorflow/tf-keras-datasets/imdb_word_index.json\n",
            "1641221/1641221 [==============================] - 0s 0us/step\n"
          ]
        }
      ],
      "source": [
        "vocabulary = tf.keras.datasets.imdb.get_word_index()\n",
        "char_to_ind = vocabulary\n",
        "ind_to_char = {ind: char for (char, ind) in vocabulary.items()}"
      ]
    },
    {
      "cell_type": "code",
      "execution_count": null,
      "metadata": {
        "id": "s5fercgq35v5",
        "colab": {
          "base_uri": "https://localhost:8080/",
          "height": 328
        },
        "outputId": "167a9149-e756-4242-e118-aa267aaf5897"
      },
      "outputs": [
        {
          "output_type": "error",
          "ename": "ValueError",
          "evalue": "ignored",
          "traceback": [
            "\u001b[0;31m---------------------------------------------------------------------------\u001b[0m",
            "\u001b[0;31mValueError\u001b[0m                                Traceback (most recent call last)",
            "\u001b[0;32m<ipython-input-4-1c04c7829a62>\u001b[0m in \u001b[0;36m<module>\u001b[0;34m\u001b[0m\n\u001b[1;32m      1\u001b[0m \u001b[0;31m# remember this? doesn't work...\u001b[0m\u001b[0;34m\u001b[0m\u001b[0;34m\u001b[0m\u001b[0;34m\u001b[0m\u001b[0m\n\u001b[0;32m----> 2\u001b[0;31m \u001b[0mtrain_data\u001b[0m \u001b[0;34m=\u001b[0m \u001b[0mtf\u001b[0m\u001b[0;34m.\u001b[0m\u001b[0mdata\u001b[0m\u001b[0;34m.\u001b[0m\u001b[0mDataset\u001b[0m\u001b[0;34m.\u001b[0m\u001b[0mfrom_tensor_slices\u001b[0m\u001b[0;34m(\u001b[0m\u001b[0;34m(\u001b[0m\u001b[0mtrain_sequences\u001b[0m\u001b[0;34m,\u001b[0m \u001b[0mtrain_labels\u001b[0m\u001b[0;34m)\u001b[0m\u001b[0;34m)\u001b[0m\u001b[0;34m\u001b[0m\u001b[0;34m\u001b[0m\u001b[0m\n\u001b[0m",
            "\u001b[0;32m/usr/local/lib/python3.7/dist-packages/tensorflow/python/data/ops/dataset_ops.py\u001b[0m in \u001b[0;36mfrom_tensor_slices\u001b[0;34m(tensors, name)\u001b[0m\n\u001b[1;32m    807\u001b[0m       \u001b[0mDataset\u001b[0m\u001b[0;34m:\u001b[0m \u001b[0mA\u001b[0m\u001b[0;31m \u001b[0m\u001b[0;31m`\u001b[0m\u001b[0mDataset\u001b[0m\u001b[0;31m`\u001b[0m\u001b[0;34m.\u001b[0m\u001b[0;34m\u001b[0m\u001b[0;34m\u001b[0m\u001b[0m\n\u001b[1;32m    808\u001b[0m     \"\"\"\n\u001b[0;32m--> 809\u001b[0;31m     \u001b[0;32mreturn\u001b[0m \u001b[0mTensorSliceDataset\u001b[0m\u001b[0;34m(\u001b[0m\u001b[0mtensors\u001b[0m\u001b[0;34m,\u001b[0m \u001b[0mname\u001b[0m\u001b[0;34m=\u001b[0m\u001b[0mname\u001b[0m\u001b[0;34m)\u001b[0m\u001b[0;34m\u001b[0m\u001b[0;34m\u001b[0m\u001b[0m\n\u001b[0m\u001b[1;32m    810\u001b[0m \u001b[0;34m\u001b[0m\u001b[0m\n\u001b[1;32m    811\u001b[0m   \u001b[0;32mclass\u001b[0m \u001b[0m_GeneratorState\u001b[0m\u001b[0;34m(\u001b[0m\u001b[0mobject\u001b[0m\u001b[0;34m)\u001b[0m\u001b[0;34m:\u001b[0m\u001b[0;34m\u001b[0m\u001b[0;34m\u001b[0m\u001b[0m\n",
            "\u001b[0;32m/usr/local/lib/python3.7/dist-packages/tensorflow/python/data/ops/dataset_ops.py\u001b[0m in \u001b[0;36m__init__\u001b[0;34m(self, element, is_files, name)\u001b[0m\n\u001b[1;32m   4549\u001b[0m   \u001b[0;32mdef\u001b[0m \u001b[0m__init__\u001b[0m\u001b[0;34m(\u001b[0m\u001b[0mself\u001b[0m\u001b[0;34m,\u001b[0m \u001b[0melement\u001b[0m\u001b[0;34m,\u001b[0m \u001b[0mis_files\u001b[0m\u001b[0;34m=\u001b[0m\u001b[0;32mFalse\u001b[0m\u001b[0;34m,\u001b[0m \u001b[0mname\u001b[0m\u001b[0;34m=\u001b[0m\u001b[0;32mNone\u001b[0m\u001b[0;34m)\u001b[0m\u001b[0;34m:\u001b[0m\u001b[0;34m\u001b[0m\u001b[0;34m\u001b[0m\u001b[0m\n\u001b[1;32m   4550\u001b[0m     \u001b[0;34m\"\"\"See `Dataset.from_tensor_slices()` for details.\"\"\"\u001b[0m\u001b[0;34m\u001b[0m\u001b[0;34m\u001b[0m\u001b[0m\n\u001b[0;32m-> 4551\u001b[0;31m     \u001b[0melement\u001b[0m \u001b[0;34m=\u001b[0m \u001b[0mstructure\u001b[0m\u001b[0;34m.\u001b[0m\u001b[0mnormalize_element\u001b[0m\u001b[0;34m(\u001b[0m\u001b[0melement\u001b[0m\u001b[0;34m)\u001b[0m\u001b[0;34m\u001b[0m\u001b[0;34m\u001b[0m\u001b[0m\n\u001b[0m\u001b[1;32m   4552\u001b[0m     \u001b[0mbatched_spec\u001b[0m \u001b[0;34m=\u001b[0m \u001b[0mstructure\u001b[0m\u001b[0;34m.\u001b[0m\u001b[0mtype_spec_from_value\u001b[0m\u001b[0;34m(\u001b[0m\u001b[0melement\u001b[0m\u001b[0;34m)\u001b[0m\u001b[0;34m\u001b[0m\u001b[0;34m\u001b[0m\u001b[0m\n\u001b[1;32m   4553\u001b[0m     \u001b[0mself\u001b[0m\u001b[0;34m.\u001b[0m\u001b[0m_tensors\u001b[0m \u001b[0;34m=\u001b[0m \u001b[0mstructure\u001b[0m\u001b[0;34m.\u001b[0m\u001b[0mto_batched_tensor_list\u001b[0m\u001b[0;34m(\u001b[0m\u001b[0mbatched_spec\u001b[0m\u001b[0;34m,\u001b[0m \u001b[0melement\u001b[0m\u001b[0;34m)\u001b[0m\u001b[0;34m\u001b[0m\u001b[0;34m\u001b[0m\u001b[0m\n",
            "\u001b[0;32m/usr/local/lib/python3.7/dist-packages/tensorflow/python/data/util/structure.py\u001b[0m in \u001b[0;36mnormalize_element\u001b[0;34m(element, element_signature)\u001b[0m\n\u001b[1;32m    123\u001b[0m           \u001b[0mdtype\u001b[0m \u001b[0;34m=\u001b[0m \u001b[0mgetattr\u001b[0m\u001b[0;34m(\u001b[0m\u001b[0mspec\u001b[0m\u001b[0;34m,\u001b[0m \u001b[0;34m\"dtype\"\u001b[0m\u001b[0;34m,\u001b[0m \u001b[0;32mNone\u001b[0m\u001b[0;34m)\u001b[0m\u001b[0;34m\u001b[0m\u001b[0;34m\u001b[0m\u001b[0m\n\u001b[1;32m    124\u001b[0m           normalized_components.append(\n\u001b[0;32m--> 125\u001b[0;31m               ops.convert_to_tensor(t, name=\"component_%d\" % i, dtype=dtype))\n\u001b[0m\u001b[1;32m    126\u001b[0m   \u001b[0;32mreturn\u001b[0m \u001b[0mnest\u001b[0m\u001b[0;34m.\u001b[0m\u001b[0mpack_sequence_as\u001b[0m\u001b[0;34m(\u001b[0m\u001b[0mpack_as\u001b[0m\u001b[0;34m,\u001b[0m \u001b[0mnormalized_components\u001b[0m\u001b[0;34m)\u001b[0m\u001b[0;34m\u001b[0m\u001b[0;34m\u001b[0m\u001b[0m\n\u001b[1;32m    127\u001b[0m \u001b[0;34m\u001b[0m\u001b[0m\n",
            "\u001b[0;32m/usr/local/lib/python3.7/dist-packages/tensorflow/python/profiler/trace.py\u001b[0m in \u001b[0;36mwrapped\u001b[0;34m(*args, **kwargs)\u001b[0m\n\u001b[1;32m    181\u001b[0m         \u001b[0;32mwith\u001b[0m \u001b[0mTrace\u001b[0m\u001b[0;34m(\u001b[0m\u001b[0mtrace_name\u001b[0m\u001b[0;34m,\u001b[0m \u001b[0;34m**\u001b[0m\u001b[0mtrace_kwargs\u001b[0m\u001b[0;34m)\u001b[0m\u001b[0;34m:\u001b[0m\u001b[0;34m\u001b[0m\u001b[0;34m\u001b[0m\u001b[0m\n\u001b[1;32m    182\u001b[0m           \u001b[0;32mreturn\u001b[0m \u001b[0mfunc\u001b[0m\u001b[0;34m(\u001b[0m\u001b[0;34m*\u001b[0m\u001b[0margs\u001b[0m\u001b[0;34m,\u001b[0m \u001b[0;34m**\u001b[0m\u001b[0mkwargs\u001b[0m\u001b[0;34m)\u001b[0m\u001b[0;34m\u001b[0m\u001b[0;34m\u001b[0m\u001b[0m\n\u001b[0;32m--> 183\u001b[0;31m       \u001b[0;32mreturn\u001b[0m \u001b[0mfunc\u001b[0m\u001b[0;34m(\u001b[0m\u001b[0;34m*\u001b[0m\u001b[0margs\u001b[0m\u001b[0;34m,\u001b[0m \u001b[0;34m**\u001b[0m\u001b[0mkwargs\u001b[0m\u001b[0;34m)\u001b[0m\u001b[0;34m\u001b[0m\u001b[0;34m\u001b[0m\u001b[0m\n\u001b[0m\u001b[1;32m    184\u001b[0m \u001b[0;34m\u001b[0m\u001b[0m\n\u001b[1;32m    185\u001b[0m     \u001b[0;32mreturn\u001b[0m \u001b[0mwrapped\u001b[0m\u001b[0;34m\u001b[0m\u001b[0;34m\u001b[0m\u001b[0m\n",
            "\u001b[0;32m/usr/local/lib/python3.7/dist-packages/tensorflow/python/framework/ops.py\u001b[0m in \u001b[0;36mconvert_to_tensor\u001b[0;34m(value, dtype, name, as_ref, preferred_dtype, dtype_hint, ctx, accepted_result_types)\u001b[0m\n\u001b[1;32m   1638\u001b[0m \u001b[0;34m\u001b[0m\u001b[0m\n\u001b[1;32m   1639\u001b[0m     \u001b[0;32mif\u001b[0m \u001b[0mret\u001b[0m \u001b[0;32mis\u001b[0m \u001b[0;32mNone\u001b[0m\u001b[0;34m:\u001b[0m\u001b[0;34m\u001b[0m\u001b[0;34m\u001b[0m\u001b[0m\n\u001b[0;32m-> 1640\u001b[0;31m       \u001b[0mret\u001b[0m \u001b[0;34m=\u001b[0m \u001b[0mconversion_func\u001b[0m\u001b[0;34m(\u001b[0m\u001b[0mvalue\u001b[0m\u001b[0;34m,\u001b[0m \u001b[0mdtype\u001b[0m\u001b[0;34m=\u001b[0m\u001b[0mdtype\u001b[0m\u001b[0;34m,\u001b[0m \u001b[0mname\u001b[0m\u001b[0;34m=\u001b[0m\u001b[0mname\u001b[0m\u001b[0;34m,\u001b[0m \u001b[0mas_ref\u001b[0m\u001b[0;34m=\u001b[0m\u001b[0mas_ref\u001b[0m\u001b[0;34m)\u001b[0m\u001b[0;34m\u001b[0m\u001b[0;34m\u001b[0m\u001b[0m\n\u001b[0m\u001b[1;32m   1641\u001b[0m \u001b[0;34m\u001b[0m\u001b[0m\n\u001b[1;32m   1642\u001b[0m     \u001b[0;32mif\u001b[0m \u001b[0mret\u001b[0m \u001b[0;32mis\u001b[0m \u001b[0mNotImplemented\u001b[0m\u001b[0;34m:\u001b[0m\u001b[0;34m\u001b[0m\u001b[0;34m\u001b[0m\u001b[0m\n",
            "\u001b[0;32m/usr/local/lib/python3.7/dist-packages/tensorflow/python/framework/tensor_conversion_registry.py\u001b[0m in \u001b[0;36m_default_conversion_function\u001b[0;34m(***failed resolving arguments***)\u001b[0m\n\u001b[1;32m     46\u001b[0m \u001b[0;32mdef\u001b[0m \u001b[0m_default_conversion_function\u001b[0m\u001b[0;34m(\u001b[0m\u001b[0mvalue\u001b[0m\u001b[0;34m,\u001b[0m \u001b[0mdtype\u001b[0m\u001b[0;34m,\u001b[0m \u001b[0mname\u001b[0m\u001b[0;34m,\u001b[0m \u001b[0mas_ref\u001b[0m\u001b[0;34m)\u001b[0m\u001b[0;34m:\u001b[0m\u001b[0;34m\u001b[0m\u001b[0;34m\u001b[0m\u001b[0m\n\u001b[1;32m     47\u001b[0m   \u001b[0;32mdel\u001b[0m \u001b[0mas_ref\u001b[0m  \u001b[0;31m# Unused.\u001b[0m\u001b[0;34m\u001b[0m\u001b[0;34m\u001b[0m\u001b[0m\n\u001b[0;32m---> 48\u001b[0;31m   \u001b[0;32mreturn\u001b[0m \u001b[0mconstant_op\u001b[0m\u001b[0;34m.\u001b[0m\u001b[0mconstant\u001b[0m\u001b[0;34m(\u001b[0m\u001b[0mvalue\u001b[0m\u001b[0;34m,\u001b[0m \u001b[0mdtype\u001b[0m\u001b[0;34m,\u001b[0m \u001b[0mname\u001b[0m\u001b[0;34m=\u001b[0m\u001b[0mname\u001b[0m\u001b[0;34m)\u001b[0m\u001b[0;34m\u001b[0m\u001b[0;34m\u001b[0m\u001b[0m\n\u001b[0m\u001b[1;32m     49\u001b[0m \u001b[0;34m\u001b[0m\u001b[0m\n\u001b[1;32m     50\u001b[0m \u001b[0;34m\u001b[0m\u001b[0m\n",
            "\u001b[0;32m/usr/local/lib/python3.7/dist-packages/tensorflow/python/framework/constant_op.py\u001b[0m in \u001b[0;36mconstant\u001b[0;34m(value, dtype, shape, name)\u001b[0m\n\u001b[1;32m    266\u001b[0m   \"\"\"\n\u001b[1;32m    267\u001b[0m   return _constant_impl(value, dtype, shape, name, verify_shape=False,\n\u001b[0;32m--> 268\u001b[0;31m                         allow_broadcast=True)\n\u001b[0m\u001b[1;32m    269\u001b[0m \u001b[0;34m\u001b[0m\u001b[0m\n\u001b[1;32m    270\u001b[0m \u001b[0;34m\u001b[0m\u001b[0m\n",
            "\u001b[0;32m/usr/local/lib/python3.7/dist-packages/tensorflow/python/framework/constant_op.py\u001b[0m in \u001b[0;36m_constant_impl\u001b[0;34m(value, dtype, shape, name, verify_shape, allow_broadcast)\u001b[0m\n\u001b[1;32m    277\u001b[0m       \u001b[0;32mwith\u001b[0m \u001b[0mtrace\u001b[0m\u001b[0;34m.\u001b[0m\u001b[0mTrace\u001b[0m\u001b[0;34m(\u001b[0m\u001b[0;34m\"tf.constant\"\u001b[0m\u001b[0;34m)\u001b[0m\u001b[0;34m:\u001b[0m\u001b[0;34m\u001b[0m\u001b[0;34m\u001b[0m\u001b[0m\n\u001b[1;32m    278\u001b[0m         \u001b[0;32mreturn\u001b[0m \u001b[0m_constant_eager_impl\u001b[0m\u001b[0;34m(\u001b[0m\u001b[0mctx\u001b[0m\u001b[0;34m,\u001b[0m \u001b[0mvalue\u001b[0m\u001b[0;34m,\u001b[0m \u001b[0mdtype\u001b[0m\u001b[0;34m,\u001b[0m \u001b[0mshape\u001b[0m\u001b[0;34m,\u001b[0m \u001b[0mverify_shape\u001b[0m\u001b[0;34m)\u001b[0m\u001b[0;34m\u001b[0m\u001b[0;34m\u001b[0m\u001b[0m\n\u001b[0;32m--> 279\u001b[0;31m     \u001b[0;32mreturn\u001b[0m \u001b[0m_constant_eager_impl\u001b[0m\u001b[0;34m(\u001b[0m\u001b[0mctx\u001b[0m\u001b[0;34m,\u001b[0m \u001b[0mvalue\u001b[0m\u001b[0;34m,\u001b[0m \u001b[0mdtype\u001b[0m\u001b[0;34m,\u001b[0m \u001b[0mshape\u001b[0m\u001b[0;34m,\u001b[0m \u001b[0mverify_shape\u001b[0m\u001b[0;34m)\u001b[0m\u001b[0;34m\u001b[0m\u001b[0;34m\u001b[0m\u001b[0m\n\u001b[0m\u001b[1;32m    280\u001b[0m \u001b[0;34m\u001b[0m\u001b[0m\n\u001b[1;32m    281\u001b[0m   \u001b[0mg\u001b[0m \u001b[0;34m=\u001b[0m \u001b[0mops\u001b[0m\u001b[0;34m.\u001b[0m\u001b[0mget_default_graph\u001b[0m\u001b[0;34m(\u001b[0m\u001b[0;34m)\u001b[0m\u001b[0;34m\u001b[0m\u001b[0;34m\u001b[0m\u001b[0m\n",
            "\u001b[0;32m/usr/local/lib/python3.7/dist-packages/tensorflow/python/framework/constant_op.py\u001b[0m in \u001b[0;36m_constant_eager_impl\u001b[0;34m(ctx, value, dtype, shape, verify_shape)\u001b[0m\n\u001b[1;32m    302\u001b[0m \u001b[0;32mdef\u001b[0m \u001b[0m_constant_eager_impl\u001b[0m\u001b[0;34m(\u001b[0m\u001b[0mctx\u001b[0m\u001b[0;34m,\u001b[0m \u001b[0mvalue\u001b[0m\u001b[0;34m,\u001b[0m \u001b[0mdtype\u001b[0m\u001b[0;34m,\u001b[0m \u001b[0mshape\u001b[0m\u001b[0;34m,\u001b[0m \u001b[0mverify_shape\u001b[0m\u001b[0;34m)\u001b[0m\u001b[0;34m:\u001b[0m\u001b[0;34m\u001b[0m\u001b[0;34m\u001b[0m\u001b[0m\n\u001b[1;32m    303\u001b[0m   \u001b[0;34m\"\"\"Creates a constant on the current device.\"\"\"\u001b[0m\u001b[0;34m\u001b[0m\u001b[0;34m\u001b[0m\u001b[0m\n\u001b[0;32m--> 304\u001b[0;31m   \u001b[0mt\u001b[0m \u001b[0;34m=\u001b[0m \u001b[0mconvert_to_eager_tensor\u001b[0m\u001b[0;34m(\u001b[0m\u001b[0mvalue\u001b[0m\u001b[0;34m,\u001b[0m \u001b[0mctx\u001b[0m\u001b[0;34m,\u001b[0m \u001b[0mdtype\u001b[0m\u001b[0;34m)\u001b[0m\u001b[0;34m\u001b[0m\u001b[0;34m\u001b[0m\u001b[0m\n\u001b[0m\u001b[1;32m    305\u001b[0m   \u001b[0;32mif\u001b[0m \u001b[0mshape\u001b[0m \u001b[0;32mis\u001b[0m \u001b[0;32mNone\u001b[0m\u001b[0;34m:\u001b[0m\u001b[0;34m\u001b[0m\u001b[0;34m\u001b[0m\u001b[0m\n\u001b[1;32m    306\u001b[0m     \u001b[0;32mreturn\u001b[0m \u001b[0mt\u001b[0m\u001b[0;34m\u001b[0m\u001b[0;34m\u001b[0m\u001b[0m\n",
            "\u001b[0;32m/usr/local/lib/python3.7/dist-packages/tensorflow/python/framework/constant_op.py\u001b[0m in \u001b[0;36mconvert_to_eager_tensor\u001b[0;34m(value, ctx, dtype)\u001b[0m\n\u001b[1;32m    100\u001b[0m       \u001b[0mdtype\u001b[0m \u001b[0;34m=\u001b[0m \u001b[0mdtypes\u001b[0m\u001b[0;34m.\u001b[0m\u001b[0mas_dtype\u001b[0m\u001b[0;34m(\u001b[0m\u001b[0mdtype\u001b[0m\u001b[0;34m)\u001b[0m\u001b[0;34m.\u001b[0m\u001b[0mas_datatype_enum\u001b[0m\u001b[0;34m\u001b[0m\u001b[0;34m\u001b[0m\u001b[0m\n\u001b[1;32m    101\u001b[0m   \u001b[0mctx\u001b[0m\u001b[0;34m.\u001b[0m\u001b[0mensure_initialized\u001b[0m\u001b[0;34m(\u001b[0m\u001b[0;34m)\u001b[0m\u001b[0;34m\u001b[0m\u001b[0;34m\u001b[0m\u001b[0m\n\u001b[0;32m--> 102\u001b[0;31m   \u001b[0;32mreturn\u001b[0m \u001b[0mops\u001b[0m\u001b[0;34m.\u001b[0m\u001b[0mEagerTensor\u001b[0m\u001b[0;34m(\u001b[0m\u001b[0mvalue\u001b[0m\u001b[0;34m,\u001b[0m \u001b[0mctx\u001b[0m\u001b[0;34m.\u001b[0m\u001b[0mdevice_name\u001b[0m\u001b[0;34m,\u001b[0m \u001b[0mdtype\u001b[0m\u001b[0;34m)\u001b[0m\u001b[0;34m\u001b[0m\u001b[0;34m\u001b[0m\u001b[0m\n\u001b[0m\u001b[1;32m    103\u001b[0m \u001b[0;34m\u001b[0m\u001b[0m\n\u001b[1;32m    104\u001b[0m \u001b[0;34m\u001b[0m\u001b[0m\n",
            "\u001b[0;31mValueError\u001b[0m: Failed to convert a NumPy array to a Tensor (Unsupported object type list)."
          ]
        }
      ],
      "source": [
        "# remember this? doesn't work...\n",
        "train_data = tf.data.Dataset.from_tensor_slices((train_sequences, train_labels))"
      ]
    },
    {
      "cell_type": "code",
      "execution_count": null,
      "metadata": {
        "id": "vxmJFX1B4MZ4"
      },
      "outputs": [],
      "source": [
        "# we can create a dataset from a python generator. first, we have to write the generator\n",
        "# this is a very simple one, but we could execute arbitrary python code in here\n",
        "# (say, loading files from disk and preparing the loaded inputs somehow)\n",
        "def gen():\n",
        "    for sequence, label in zip(train_sequences, train_labels):\n",
        "        yield sequence, label"
      ]
    },
    {
      "cell_type": "code",
      "execution_count": null,
      "metadata": {
        "id": "_Lq6XE4j4gay"
      },
      "outputs": [],
      "source": [
        "# we have to tell TF what to expect from the generator (\"Tensor Specification\")\n",
        "train_data = tf.data.Dataset.from_generator(gen, output_signature=(\n",
        "         tf.TensorSpec(shape=(None,), dtype=tf.int32),\n",
        "         tf.TensorSpec(shape=(), dtype=tf.int32)))\n",
        "\n",
        "# regular .batch wouldn't work because the inputs are different length.\n",
        "# padded batch automatically pads all elements in the batch to the longest length\n",
        "# per dimension.\n",
        "# you can also specify different shapes and padding values other than 0.\n",
        "# padding is always \"post\"\n",
        "train_data = train_data.padded_batch(32)"
      ]
    },
    {
      "cell_type": "code",
      "execution_count": null,
      "metadata": {
        "id": "hUx7O2Ha4ifV",
        "colab": {
          "base_uri": "https://localhost:8080/",
          "height": 363
        },
        "outputId": "ddee3fd4-41b7-45e7-c6f1-46da0bba3acd"
      },
      "outputs": [
        {
          "output_type": "stream",
          "name": "stdout",
          "text": [
            "(32, 888) (32,)\n"
          ]
        },
        {
          "output_type": "error",
          "ename": "KeyboardInterrupt",
          "evalue": "ignored",
          "traceback": [
            "\u001b[0;31m---------------------------------------------------------------------------\u001b[0m",
            "\u001b[0;31mKeyboardInterrupt\u001b[0m                         Traceback (most recent call last)",
            "\u001b[0;32m<ipython-input-6-f1bc9b342f7a>\u001b[0m in \u001b[0;36m<module>\u001b[0;34m\u001b[0m\n\u001b[1;32m      1\u001b[0m \u001b[0;32mfor\u001b[0m \u001b[0msequence\u001b[0m\u001b[0;34m,\u001b[0m \u001b[0mlabel\u001b[0m \u001b[0;32min\u001b[0m \u001b[0mtrain_data\u001b[0m\u001b[0;34m:\u001b[0m\u001b[0;34m\u001b[0m\u001b[0;34m\u001b[0m\u001b[0m\n\u001b[1;32m      2\u001b[0m     \u001b[0mprint\u001b[0m\u001b[0;34m(\u001b[0m\u001b[0msequence\u001b[0m\u001b[0;34m.\u001b[0m\u001b[0mshape\u001b[0m\u001b[0;34m,\u001b[0m \u001b[0mlabel\u001b[0m\u001b[0;34m.\u001b[0m\u001b[0mshape\u001b[0m\u001b[0;34m)\u001b[0m\u001b[0;34m\u001b[0m\u001b[0;34m\u001b[0m\u001b[0m\n\u001b[0;32m----> 3\u001b[0;31m     \u001b[0minput\u001b[0m\u001b[0;34m(\u001b[0m\u001b[0;34m)\u001b[0m\u001b[0;34m\u001b[0m\u001b[0;34m\u001b[0m\u001b[0m\n\u001b[0m",
            "\u001b[0;32m/usr/local/lib/python3.7/dist-packages/ipykernel/kernelbase.py\u001b[0m in \u001b[0;36mraw_input\u001b[0;34m(self, prompt)\u001b[0m\n\u001b[1;32m    861\u001b[0m             \u001b[0mself\u001b[0m\u001b[0;34m.\u001b[0m\u001b[0m_parent_ident\u001b[0m\u001b[0;34m,\u001b[0m\u001b[0;34m\u001b[0m\u001b[0;34m\u001b[0m\u001b[0m\n\u001b[1;32m    862\u001b[0m             \u001b[0mself\u001b[0m\u001b[0;34m.\u001b[0m\u001b[0m_parent_header\u001b[0m\u001b[0;34m,\u001b[0m\u001b[0;34m\u001b[0m\u001b[0;34m\u001b[0m\u001b[0m\n\u001b[0;32m--> 863\u001b[0;31m             \u001b[0mpassword\u001b[0m\u001b[0;34m=\u001b[0m\u001b[0;32mFalse\u001b[0m\u001b[0;34m,\u001b[0m\u001b[0;34m\u001b[0m\u001b[0;34m\u001b[0m\u001b[0m\n\u001b[0m\u001b[1;32m    864\u001b[0m         )\n\u001b[1;32m    865\u001b[0m \u001b[0;34m\u001b[0m\u001b[0m\n",
            "\u001b[0;32m/usr/local/lib/python3.7/dist-packages/ipykernel/kernelbase.py\u001b[0m in \u001b[0;36m_input_request\u001b[0;34m(self, prompt, ident, parent, password)\u001b[0m\n\u001b[1;32m    902\u001b[0m             \u001b[0;32mexcept\u001b[0m \u001b[0mKeyboardInterrupt\u001b[0m\u001b[0;34m:\u001b[0m\u001b[0;34m\u001b[0m\u001b[0;34m\u001b[0m\u001b[0m\n\u001b[1;32m    903\u001b[0m                 \u001b[0;31m# re-raise KeyboardInterrupt, to truncate traceback\u001b[0m\u001b[0;34m\u001b[0m\u001b[0;34m\u001b[0m\u001b[0;34m\u001b[0m\u001b[0m\n\u001b[0;32m--> 904\u001b[0;31m                 \u001b[0;32mraise\u001b[0m \u001b[0mKeyboardInterrupt\u001b[0m\u001b[0;34m(\u001b[0m\u001b[0;34m\"Interrupted by user\"\u001b[0m\u001b[0;34m)\u001b[0m \u001b[0;32mfrom\u001b[0m \u001b[0;32mNone\u001b[0m\u001b[0;34m\u001b[0m\u001b[0;34m\u001b[0m\u001b[0m\n\u001b[0m\u001b[1;32m    905\u001b[0m             \u001b[0;32mexcept\u001b[0m \u001b[0mException\u001b[0m \u001b[0;32mas\u001b[0m \u001b[0me\u001b[0m\u001b[0;34m:\u001b[0m\u001b[0;34m\u001b[0m\u001b[0;34m\u001b[0m\u001b[0m\n\u001b[1;32m    906\u001b[0m                 \u001b[0mself\u001b[0m\u001b[0;34m.\u001b[0m\u001b[0mlog\u001b[0m\u001b[0;34m.\u001b[0m\u001b[0mwarning\u001b[0m\u001b[0;34m(\u001b[0m\u001b[0;34m\"Invalid Message:\"\u001b[0m\u001b[0;34m,\u001b[0m \u001b[0mexc_info\u001b[0m\u001b[0;34m=\u001b[0m\u001b[0;32mTrue\u001b[0m\u001b[0;34m)\u001b[0m\u001b[0;34m\u001b[0m\u001b[0;34m\u001b[0m\u001b[0m\n",
            "\u001b[0;31mKeyboardInterrupt\u001b[0m: Interrupted by user"
          ]
        }
      ],
      "source": [
        "for sequence, label in train_data:\n",
        "    print(sequence.shape, label.shape)\n",
        "    input()"
      ]
    },
    {
      "cell_type": "code",
      "execution_count": null,
      "metadata": {
        "id": "tVgxkqBIoXWe",
        "colab": {
          "base_uri": "https://localhost:8080/"
        },
        "outputId": "267d00e6-eb74-4277-9c6c-875729d0ee10"
      },
      "outputs": [
        {
          "output_type": "stream",
          "name": "stdout",
          "text": [
            "[32, 32, 32, 32, 32, 32, 32, 32, 32, 32, 32]\n"
          ]
        }
      ],
      "source": [
        "# we have to tell TF what to expect from the generator (\"Tensor Specification\")\n",
        "train_data = tf.data.Dataset.from_generator(gen, output_signature=(\n",
        "         tf.TensorSpec(shape=(None,), dtype=tf.int32),\n",
        "         tf.TensorSpec(shape=(), dtype=tf.int32)))\n",
        "\n",
        "# alternatively, we can use bucketing. the idea is to define buckets for specific\n",
        "# sequence lengths, and put all sequences in their corresponding bucket.\n",
        "# when a batch is requested, first a bucket is selected and then all elements of\n",
        "# the batch are taken from this bucket.\n",
        "# this guarantees that all elements in a batch are roughly the same length,\n",
        "# minimizing the amount of padding.\n",
        "\n",
        "# here is an example with buckets in steps of 50. all sequences above length 500\n",
        "# end up in the same bucket. same for sequences below length 50.\n",
        "# do note that I by no means claim that this is a \"good\" bucketing. play around with it!\n",
        "buckets = [50, 100, 150, 200, 250, 300, 350, 400, 450, 500]\n",
        "bucket_batch_size = [32] * (len(buckets) + 1)\n",
        "train_data = train_data.bucket_by_sequence_length(lambda sequence, label: tf.shape(sequence)[0],\n",
        "                                                  bucket_boundaries=buckets, bucket_batch_sizes=bucket_batch_size)\n",
        "print(bucket_batch_size)"
      ]
    },
    {
      "cell_type": "code",
      "execution_count": null,
      "metadata": {
        "id": "gu-04NHZ9ECU"
      },
      "outputs": [],
      "source": [
        "# NOTE!!\n",
        "# you should probably still remove very long sequences (longer than some cutoff)\n",
        "# before converting to a dataset"
      ]
    },
    {
      "cell_type": "code",
      "execution_count": null,
      "metadata": {
        "id": "7Bj3tdaWpCZz",
        "colab": {
          "base_uri": "https://localhost:8080/",
          "height": 363
        },
        "outputId": "1f186e45-5226-4b7a-b4ac-22b06e3a2977"
      },
      "outputs": [
        {
          "output_type": "stream",
          "name": "stdout",
          "text": [
            "(32, 147) (32,)\n"
          ]
        },
        {
          "output_type": "error",
          "ename": "KeyboardInterrupt",
          "evalue": "ignored",
          "traceback": [
            "\u001b[0;31m---------------------------------------------------------------------------\u001b[0m",
            "\u001b[0;31mKeyboardInterrupt\u001b[0m                         Traceback (most recent call last)",
            "\u001b[0;32m<ipython-input-8-3dbe9c8c8cc0>\u001b[0m in \u001b[0;36m<module>\u001b[0;34m\u001b[0m\n\u001b[1;32m      5\u001b[0m \u001b[0;32mfor\u001b[0m \u001b[0msequence\u001b[0m\u001b[0;34m,\u001b[0m \u001b[0mlabel\u001b[0m \u001b[0;32min\u001b[0m \u001b[0mtrain_data\u001b[0m\u001b[0;34m:\u001b[0m\u001b[0;34m\u001b[0m\u001b[0;34m\u001b[0m\u001b[0m\n\u001b[1;32m      6\u001b[0m     \u001b[0mprint\u001b[0m\u001b[0;34m(\u001b[0m\u001b[0msequence\u001b[0m\u001b[0;34m.\u001b[0m\u001b[0mshape\u001b[0m\u001b[0;34m,\u001b[0m \u001b[0mlabel\u001b[0m\u001b[0;34m.\u001b[0m\u001b[0mshape\u001b[0m\u001b[0;34m)\u001b[0m\u001b[0;34m\u001b[0m\u001b[0;34m\u001b[0m\u001b[0m\n\u001b[0;32m----> 7\u001b[0;31m     \u001b[0minput\u001b[0m\u001b[0;34m(\u001b[0m\u001b[0;34m)\u001b[0m\u001b[0;34m\u001b[0m\u001b[0;34m\u001b[0m\u001b[0m\n\u001b[0m",
            "\u001b[0;32m/usr/local/lib/python3.7/dist-packages/ipykernel/kernelbase.py\u001b[0m in \u001b[0;36mraw_input\u001b[0;34m(self, prompt)\u001b[0m\n\u001b[1;32m    861\u001b[0m             \u001b[0mself\u001b[0m\u001b[0;34m.\u001b[0m\u001b[0m_parent_ident\u001b[0m\u001b[0;34m,\u001b[0m\u001b[0;34m\u001b[0m\u001b[0;34m\u001b[0m\u001b[0m\n\u001b[1;32m    862\u001b[0m             \u001b[0mself\u001b[0m\u001b[0;34m.\u001b[0m\u001b[0m_parent_header\u001b[0m\u001b[0;34m,\u001b[0m\u001b[0;34m\u001b[0m\u001b[0;34m\u001b[0m\u001b[0m\n\u001b[0;32m--> 863\u001b[0;31m             \u001b[0mpassword\u001b[0m\u001b[0;34m=\u001b[0m\u001b[0;32mFalse\u001b[0m\u001b[0;34m,\u001b[0m\u001b[0;34m\u001b[0m\u001b[0;34m\u001b[0m\u001b[0m\n\u001b[0m\u001b[1;32m    864\u001b[0m         )\n\u001b[1;32m    865\u001b[0m \u001b[0;34m\u001b[0m\u001b[0m\n",
            "\u001b[0;32m/usr/local/lib/python3.7/dist-packages/ipykernel/kernelbase.py\u001b[0m in \u001b[0;36m_input_request\u001b[0;34m(self, prompt, ident, parent, password)\u001b[0m\n\u001b[1;32m    902\u001b[0m             \u001b[0;32mexcept\u001b[0m \u001b[0mKeyboardInterrupt\u001b[0m\u001b[0;34m:\u001b[0m\u001b[0;34m\u001b[0m\u001b[0;34m\u001b[0m\u001b[0m\n\u001b[1;32m    903\u001b[0m                 \u001b[0;31m# re-raise KeyboardInterrupt, to truncate traceback\u001b[0m\u001b[0;34m\u001b[0m\u001b[0;34m\u001b[0m\u001b[0;34m\u001b[0m\u001b[0m\n\u001b[0;32m--> 904\u001b[0;31m                 \u001b[0;32mraise\u001b[0m \u001b[0mKeyboardInterrupt\u001b[0m\u001b[0;34m(\u001b[0m\u001b[0;34m\"Interrupted by user\"\u001b[0m\u001b[0;34m)\u001b[0m \u001b[0;32mfrom\u001b[0m \u001b[0;32mNone\u001b[0m\u001b[0;34m\u001b[0m\u001b[0;34m\u001b[0m\u001b[0m\n\u001b[0m\u001b[1;32m    905\u001b[0m             \u001b[0;32mexcept\u001b[0m \u001b[0mException\u001b[0m \u001b[0;32mas\u001b[0m \u001b[0me\u001b[0m\u001b[0;34m:\u001b[0m\u001b[0;34m\u001b[0m\u001b[0;34m\u001b[0m\u001b[0m\n\u001b[1;32m    906\u001b[0m                 \u001b[0mself\u001b[0m\u001b[0;34m.\u001b[0m\u001b[0mlog\u001b[0m\u001b[0;34m.\u001b[0m\u001b[0mwarning\u001b[0m\u001b[0;34m(\u001b[0m\u001b[0;34m\"Invalid Message:\"\u001b[0m\u001b[0;34m,\u001b[0m \u001b[0mexc_info\u001b[0m\u001b[0;34m=\u001b[0m\u001b[0;32mTrue\u001b[0m\u001b[0;34m)\u001b[0m\u001b[0;34m\u001b[0m\u001b[0;34m\u001b[0m\u001b[0m\n",
            "\u001b[0;31mKeyboardInterrupt\u001b[0m: Interrupted by user"
          ]
        }
      ],
      "source": [
        "# compare the average batch shapes with the padded_batch example. there, batches are\n",
        "# often length 800 or so because the longest sequence in the batch happened to\n",
        "# have that length.\n",
        "# with bucketing, we get many much smaller batches, meaning more efficient training.\n",
        "for sequence, label in train_data:\n",
        "    print(sequence.shape, label.shape)\n",
        "    input()"
      ]
    },
    {
      "cell_type": "code",
      "execution_count": null,
      "metadata": {
        "id": "8R5z3NdMAwD9",
        "colab": {
          "base_uri": "https://localhost:8080/"
        },
        "outputId": "fe7e810f-8a97-4d1e-f600-e120002b0b0a"
      },
      "outputs": [
        {
          "output_type": "stream",
          "name": "stdout",
          "text": [
            "Model: \"sequential\"\n",
            "_________________________________________________________________\n",
            " Layer (type)                Output Shape              Param #   \n",
            "=================================================================\n",
            " embedding (Embedding)       (None, None, 20)          400000    \n",
            "                                                                 \n",
            " lstm (LSTM)                 (None, None, 12)          1584      \n",
            "                                                                 \n",
            " lstm_1 (LSTM)               (None, 15)                1680      \n",
            "                                                                 \n",
            " dense (Dense)               (None, 1)                 16        \n",
            "                                                                 \n",
            "=================================================================\n",
            "Total params: 403,280\n",
            "Trainable params: 403,280\n",
            "Non-trainable params: 0\n",
            "_________________________________________________________________\n"
          ]
        }
      ],
      "source": [
        "# here's a very simple toy example for a keras lstm\n",
        "# the \"hidden dimensions\" are just randomly chosen. \n",
        "# you probably don't want to use a hidden size of 12 =) (but maybe it's actually really good?)\n",
        "\n",
        "\n",
        "# embedding comes first to replace one-hot vectors. \n",
        "#    mask_zero=True to prevent computations on padded time steps.\n",
        "# then an arbitrary number of RNN layers.\n",
        "# deeper RNN layers take as input sequence the state sequence of the layer before,\n",
        "# so all layers except the last one should return_sequences=True\n",
        "# finally, a Dense layer for the output, since the output computation is *not*\n",
        "# included in the RNN cells; all cells provided by Keras only compute the states\n",
        "model = tf.keras.Sequential([tf.keras.layers.Embedding(max_words, 20, mask_zero=True), \n",
        "                             tf.keras.layers.LSTM(12, return_sequences=True),\n",
        "                             tf.keras.layers.LSTM(15),\n",
        "                             tf.keras.layers.Dense(1)])\n",
        "\n",
        "\n",
        "# FYI, the third line is the same as the first two lines together.\n",
        "# the second option can use a much more efficient implementation, it will be SOOO much faster.\n",
        "# try it yourself!\n",
        "#rnn_cell = tf.keras.layers.LSTMCell(12)\n",
        "#rnn = tf.keras.layers.RNN(rnn_cell, return_sequences=False)\n",
        "rnn = tf.keras.layers.LSTM(12, return_sequences=False)\n",
        "model.summary()\n"
      ]
    },
    {
      "cell_type": "code",
      "execution_count": null,
      "metadata": {
        "id": "VQvxblepEoDt",
        "colab": {
          "base_uri": "https://localhost:8080/"
        },
        "outputId": "5652e306-de34-40d6-8cff-cea2a3fb6a96"
      },
      "outputs": [
        {
          "output_type": "execute_result",
          "data": {
            "text/plain": [
              "<tf.Tensor: shape=(32, 12), dtype=float32, numpy=\n",
              "array([[-2.57647363e-03,  1.14720734e-02,  9.63272154e-03,\n",
              "        -1.06069241e-02, -9.16691124e-03,  2.82309111e-03,\n",
              "        -1.08515322e-02,  1.08175557e-02, -5.31226955e-03,\n",
              "        -4.05588560e-03,  4.98163095e-03,  2.03115423e-03],\n",
              "       [-2.19507259e-03,  3.69410450e-03, -5.19726053e-03,\n",
              "         6.80072419e-03,  5.02034416e-03, -5.49666956e-03,\n",
              "         2.79236771e-03,  2.44621094e-03, -1.27803083e-04,\n",
              "         7.07393570e-04, -1.50572625e-03,  2.48943339e-03],\n",
              "       [-2.61177751e-03,  1.88819710e-02,  1.44013604e-02,\n",
              "        -1.96601860e-02, -1.25700189e-02,  1.01099873e-03,\n",
              "        -1.73655991e-02,  1.34780919e-02, -8.68466683e-03,\n",
              "        -5.60008176e-03,  7.07190018e-03,  4.41082334e-03],\n",
              "       [-2.97777378e-03,  1.81576516e-02,  1.39152529e-02,\n",
              "        -1.87522210e-02, -1.23918587e-02,  1.52583828e-03,\n",
              "        -1.70959458e-02,  1.34468116e-02, -8.21813941e-03,\n",
              "        -5.71518950e-03,  6.46761293e-03,  4.00661118e-03],\n",
              "       [-2.56409147e-03,  1.89690255e-02,  1.43832657e-02,\n",
              "        -1.98067017e-02, -1.26081137e-02,  8.19621375e-04,\n",
              "        -1.72706507e-02,  1.34724248e-02, -8.74357577e-03,\n",
              "        -5.61144017e-03,  7.23568397e-03,  4.44870582e-03],\n",
              "       [-2.53847125e-03,  1.90049019e-02,  1.43689318e-02,\n",
              "        -1.98636986e-02, -1.26260370e-02,  7.23593519e-04,\n",
              "        -1.72155295e-02,  1.34624075e-02, -8.76735989e-03,\n",
              "        -5.61619457e-03,  7.30928592e-03,  4.46709711e-03],\n",
              "       [-2.73527298e-03,  1.84240062e-02,  1.41088543e-02,\n",
              "        -1.90647915e-02, -1.24915196e-02,  1.33206823e-03,\n",
              "        -1.70923322e-02,  1.33779272e-02, -8.43285117e-03,\n",
              "        -5.58803976e-03,  6.89406227e-03,  4.22688853e-03],\n",
              "       [-2.71292008e-03,  1.86160356e-02,  1.42061040e-02,\n",
              "        -1.93188861e-02, -1.25686666e-02,  1.12028082e-03,\n",
              "        -1.71994492e-02,  1.34090353e-02, -8.48367997e-03,\n",
              "        -5.65440906e-03,  6.80656452e-03,  4.27332427e-03],\n",
              "       [-2.00527348e-03,  1.28454594e-02,  1.10001527e-02,\n",
              "        -1.14854500e-02, -8.35697539e-03,  4.92564961e-03,\n",
              "        -1.27669638e-02,  1.17770303e-02, -5.55478549e-03,\n",
              "        -4.41891328e-03,  2.44579092e-03,  3.29326559e-03],\n",
              "       [-4.14577342e-04,  1.06378347e-02,  9.24012344e-03,\n",
              "        -1.29296826e-02, -1.04604298e-02, -1.14907383e-03,\n",
              "        -7.56794401e-03,  8.39164667e-03, -4.53767460e-03,\n",
              "        -4.36850591e-03,  4.44004918e-03,  2.05015042e-03],\n",
              "       [-3.39796138e-03,  1.51272267e-02,  1.19647663e-02,\n",
              "        -1.52410287e-02, -1.19639691e-02,  3.62114608e-03,\n",
              "        -1.59697942e-02,  1.31383361e-02, -6.40492979e-03,\n",
              "        -5.73596358e-03,  5.36101358e-03,  3.02629336e-03],\n",
              "       [-3.48190940e-03,  9.68975015e-03,  9.71066207e-03,\n",
              "        -1.22823855e-02, -1.15748523e-02,  4.58307099e-03,\n",
              "        -1.11086620e-02,  1.08644087e-02, -3.81239899e-03,\n",
              "        -5.18439105e-03,  2.95124575e-03, -2.58122513e-04],\n",
              "       [-2.79457401e-03,  1.78606622e-02,  1.37257725e-02,\n",
              "        -1.81918032e-02, -1.24498624e-02,  1.78062730e-03,\n",
              "        -1.66828446e-02,  1.31410593e-02, -8.05255491e-03,\n",
              "        -5.55249024e-03,  6.63862191e-03,  4.11142688e-03],\n",
              "       [-2.58540432e-03,  1.88858826e-02,  1.43833505e-02,\n",
              "        -1.96541399e-02, -1.25530353e-02,  9.72289126e-04,\n",
              "        -1.73228476e-02,  1.34774325e-02, -8.69906601e-03,\n",
              "        -5.59372874e-03,  7.11753266e-03,  4.42937249e-03],\n",
              "       [-2.53750058e-03,  1.90094560e-02,  1.43641988e-02,\n",
              "        -1.98742840e-02, -1.26309395e-02,  7.07382336e-04,\n",
              "        -1.72049385e-02,  1.34608680e-02, -8.76932591e-03,\n",
              "        -5.61892753e-03,  7.32055074e-03,  4.46730154e-03],\n",
              "       [-2.54542963e-03,  1.89939234e-02,  1.43762585e-02,\n",
              "        -1.98438168e-02, -1.26179727e-02,  7.62761105e-04,\n",
              "        -1.72382370e-02,  1.34674348e-02, -8.76208488e-03,\n",
              "        -5.61168324e-03,  7.29189673e-03,  4.46380256e-03],\n",
              "       [-2.73275655e-03,  1.58342943e-02,  1.27634667e-02,\n",
              "        -1.63693801e-02, -1.15098730e-02,  9.79044940e-04,\n",
              "        -1.45636890e-02,  1.21220304e-02, -6.96661975e-03,\n",
              "        -5.29633416e-03,  4.55158716e-03,  3.09407990e-03],\n",
              "       [-1.97443808e-03,  4.83786501e-03,  8.26712418e-03,\n",
              "        -1.09479371e-02, -3.44352890e-03, -4.59807180e-03,\n",
              "        -2.81100185e-03,  4.34942078e-04,  3.04889469e-03,\n",
              "         5.29780565e-03,  8.83322326e-04,  3.11499299e-03],\n",
              "       [-2.53733271e-03,  1.90080851e-02,  1.43687697e-02,\n",
              "        -1.98691469e-02, -1.26280850e-02,  7.17175426e-04,\n",
              "        -1.72131397e-02,  1.34620201e-02, -8.76897667e-03,\n",
              "        -5.61694242e-03,  7.31333997e-03,  4.46803775e-03],\n",
              "       [ 2.89032731e-04, -7.72066368e-03, -2.27533863e-03,\n",
              "        -4.83661518e-03,  4.54280479e-03,  7.01114023e-03,\n",
              "        -1.85051246e-03, -2.95024924e-03,  1.83485635e-03,\n",
              "         4.07269923e-03, -4.76385793e-03, -3.87651520e-03],\n",
              "       [-2.56207539e-03,  1.89531408e-02,  1.43930232e-02,\n",
              "        -1.97659992e-02, -1.25897415e-02,  8.68971809e-04,\n",
              "        -1.72951296e-02,  1.34747019e-02, -8.73926096e-03,\n",
              "        -5.59964869e-03,  7.21448474e-03,  4.45265556e-03],\n",
              "       [-3.24790087e-03,  1.80608854e-02,  1.37167331e-02,\n",
              "        -1.89676005e-02, -1.26681309e-02,  1.22515124e-03,\n",
              "        -1.68926287e-02,  1.33389886e-02, -7.96260498e-03,\n",
              "        -5.93290199e-03,  6.15484547e-03,  3.70517629e-03],\n",
              "       [-2.55539245e-03,  1.89866163e-02,  1.43729784e-02,\n",
              "        -1.98384374e-02, -1.26204640e-02,  7.68054277e-04,\n",
              "        -1.72424167e-02,  1.34680914e-02, -8.75423942e-03,\n",
              "        -5.61673008e-03,  7.27440463e-03,  4.45429794e-03],\n",
              "       [-9.02310479e-04,  7.24369939e-03,  6.41625049e-03,\n",
              "        -6.14350662e-03, -4.07575397e-03,  4.07021353e-03,\n",
              "        -8.55225977e-03,  8.52148235e-03, -5.15097938e-03,\n",
              "        -1.95749197e-03,  5.57016814e-03,  2.49691936e-03],\n",
              "       [-2.54015322e-03,  1.90080758e-02,  1.43663920e-02,\n",
              "        -1.98728722e-02, -1.26306824e-02,  7.15048169e-04,\n",
              "        -1.72108356e-02,  1.34624066e-02, -8.76801647e-03,\n",
              "        -5.61895128e-03,  7.31549365e-03,  4.46573831e-03],\n",
              "       [-9.55531432e-05,  8.56081489e-03,  6.92641363e-03,\n",
              "        -9.29342024e-03, -9.17065516e-03,  1.24826457e-03,\n",
              "        -3.45563213e-03,  2.53539020e-03,  8.86921189e-04,\n",
              "        -3.13862157e-03,  2.19487166e-03,  1.24904723e-03],\n",
              "       [-2.58692144e-03,  1.88500229e-02,  1.43697532e-02,\n",
              "        -1.95669942e-02, -1.25292717e-02,  1.07816944e-03,\n",
              "        -1.73414964e-02,  1.34756714e-02, -8.69753491e-03,\n",
              "        -5.56419883e-03,  7.18672853e-03,  4.44213208e-03],\n",
              "       [-2.55184737e-03,  1.89467687e-02,  1.44075043e-02,\n",
              "        -1.97347086e-02, -1.25680193e-02,  9.17634636e-04,\n",
              "        -1.73225887e-02,  1.34807862e-02, -8.74577556e-03,\n",
              "        -5.58225252e-03,  7.22062914e-03,  4.46653552e-03],\n",
              "       [ 2.47850921e-03, -1.20745809e-03, -3.91767733e-03,\n",
              "         7.14464672e-03,  5.57193242e-04,  1.16385950e-03,\n",
              "        -5.08233847e-04, -5.84569667e-03,  2.15168693e-03,\n",
              "         2.07066839e-03,  5.65442676e-03,  2.90957699e-03],\n",
              "       [-2.05095811e-03,  1.15055535e-02,  1.07902335e-02,\n",
              "        -1.20901698e-02, -9.58507136e-03,  4.61755181e-03,\n",
              "        -1.13816941e-02,  1.10063897e-02, -5.54780010e-03,\n",
              "        -4.00736788e-03,  3.62828374e-03,  2.26468290e-03],\n",
              "       [-2.45460914e-03,  7.92083237e-03,  7.11799972e-03,\n",
              "        -1.02212643e-02, -6.20664144e-03,  6.70582012e-05,\n",
              "        -7.21878326e-03,  9.97306872e-03, -4.06226842e-03,\n",
              "        -4.97271912e-03,  4.01275838e-03,  3.27153044e-04],\n",
              "       [-2.73121265e-03,  1.84036456e-02,  1.40868304e-02,\n",
              "        -1.89503320e-02, -1.24790343e-02,  1.36339106e-03,\n",
              "        -1.70848165e-02,  1.33383377e-02, -8.37718416e-03,\n",
              "        -5.60257165e-03,  6.75453059e-03,  4.24712524e-03]], dtype=float32)>"
            ]
          },
          "metadata": {},
          "execution_count": 10
        }
      ],
      "source": [
        "# calling RNN layers is easy!\n",
        "one_hot_batch = tf.one_hot(sequence, depth=max_words)\n",
        "rnn(one_hot_batch)"
      ]
    },
    {
      "cell_type": "markdown",
      "source": [
        "# Different RNN Implementations"
      ],
      "metadata": {
        "id": "hSMOj22-IGB0"
      }
    },
    {
      "cell_type": "markdown",
      "source": [
        "##Model 1 - Basic LSTM"
      ],
      "metadata": {
        "id": "K-Xorc6XINtR"
      }
    },
    {
      "cell_type": "code",
      "source": [
        "def gen_test():\n",
        "    for sequence, label in zip(test_sequences, test_labels):\n",
        "        yield sequence, label\n",
        "\n",
        "test_data = tf.data.Dataset.from_generator(gen_test, output_signature=(\n",
        "         tf.TensorSpec(shape=(None,), dtype=tf.int32),\n",
        "         tf.TensorSpec(shape=(), dtype=tf.int32)))\n",
        "buckets = [50, 100, 150, 200, 250, 300, 350, 400, 450, 500]\n",
        "bucket_batch_size = [32] * (len(buckets) + 1)\n",
        "test_data = test_data.bucket_by_sequence_length(lambda sequence, label: tf.shape(sequence)[0],\n",
        "                                                  bucket_boundaries=buckets, bucket_batch_sizes=bucket_batch_size)"
      ],
      "metadata": {
        "id": "rCenN_W00rxr"
      },
      "execution_count": null,
      "outputs": []
    },
    {
      "cell_type": "code",
      "source": [
        "rnnModel1 = tf.keras.Sequential([tf.keras.layers.Embedding(max_words, 64 , mask_zero=True), \n",
        "                             tf.keras.layers.LSTM(32, return_sequences=True),\n",
        "                             tf.keras.layers.LSTM(64, return_sequences=True),\n",
        "                             tf.keras.layers.LSTM(128),\n",
        "                             tf.keras.layers.Dense(64,activation='relu'),\n",
        "                             tf.keras.layers.Dense(1)])\n",
        "rnnModel1.summary()"
      ],
      "metadata": {
        "id": "E78fvnBrIQ18",
        "colab": {
          "base_uri": "https://localhost:8080/"
        },
        "outputId": "d5f2e96a-8651-425f-931f-c505380dbad2"
      },
      "execution_count": null,
      "outputs": [
        {
          "output_type": "stream",
          "name": "stdout",
          "text": [
            "Model: \"sequential_2\"\n",
            "_________________________________________________________________\n",
            " Layer (type)                Output Shape              Param #   \n",
            "=================================================================\n",
            " embedding_2 (Embedding)     (None, None, 64)          1280000   \n",
            "                                                                 \n",
            " lstm_6 (LSTM)               (None, None, 32)          12416     \n",
            "                                                                 \n",
            " lstm_7 (LSTM)               (None, None, 64)          24832     \n",
            "                                                                 \n",
            " lstm_8 (LSTM)               (None, 128)               98816     \n",
            "                                                                 \n",
            " dense_3 (Dense)             (None, 64)                8256      \n",
            "                                                                 \n",
            " dense_4 (Dense)             (None, 1)                 65        \n",
            "                                                                 \n",
            "=================================================================\n",
            "Total params: 1,424,385\n",
            "Trainable params: 1,424,385\n",
            "Non-trainable params: 0\n",
            "_________________________________________________________________\n"
          ]
        }
      ]
    },
    {
      "cell_type": "code",
      "source": [
        "optimizer = tf.optimizers.Adam()\n",
        "\n",
        "loss_fn = tf.losses.BinaryCrossentropy(from_logits=True)"
      ],
      "metadata": {
        "id": "0dab73jPvP2N"
      },
      "execution_count": null,
      "outputs": []
    },
    {
      "cell_type": "code",
      "source": [
        "rnnModel1.compile(optimizer=optimizer, loss=loss_fn, metrics=['accuracy'])\n"
      ],
      "metadata": {
        "id": "zWutAfcWxCM7"
      },
      "execution_count": null,
      "outputs": []
    },
    {
      "cell_type": "code",
      "source": [
        "rnnModel1.fit(train_data, batch_size=bucket_batch_size, validation_data=test_data,epochs=5)\n"
      ],
      "metadata": {
        "colab": {
          "base_uri": "https://localhost:8080/"
        },
        "id": "MYX2qrsixIdx",
        "outputId": "d392dc43-6389-43fd-f223-2b1fba292adb"
      },
      "execution_count": null,
      "outputs": [
        {
          "output_type": "stream",
          "name": "stdout",
          "text": [
            "Epoch 1/5\n",
            "786/786 [==============================] - 74s 79ms/step - loss: 0.4102 - accuracy: 0.7987 - val_loss: 0.3349 - val_accuracy: 0.8629\n",
            "Epoch 2/5\n",
            "786/786 [==============================] - 59s 75ms/step - loss: 0.2076 - accuracy: 0.9214 - val_loss: 0.3909 - val_accuracy: 0.8681\n",
            "Epoch 3/5\n",
            "786/786 [==============================] - 58s 74ms/step - loss: 0.1594 - accuracy: 0.9403 - val_loss: 0.4485 - val_accuracy: 0.8640\n",
            "Epoch 4/5\n",
            "786/786 [==============================] - 58s 73ms/step - loss: 0.1077 - accuracy: 0.9635 - val_loss: 0.5253 - val_accuracy: 0.8653\n",
            "Epoch 5/5\n",
            "786/786 [==============================] - 69s 88ms/step - loss: 0.0772 - accuracy: 0.9741 - val_loss: 0.5722 - val_accuracy: 0.8434\n"
          ]
        },
        {
          "output_type": "execute_result",
          "data": {
            "text/plain": [
              "<keras.callbacks.History at 0x7f4cb58234d0>"
            ]
          },
          "metadata": {},
          "execution_count": 16
        }
      ]
    },
    {
      "cell_type": "code",
      "source": [
        "rnnModel1.evaluate(test_data)"
      ],
      "metadata": {
        "colab": {
          "base_uri": "https://localhost:8080/"
        },
        "id": "2O_KE00n1OSV",
        "outputId": "0ddf0bae-c5e2-4d94-d67f-4ff03f5007ae"
      },
      "execution_count": null,
      "outputs": [
        {
          "output_type": "stream",
          "name": "stdout",
          "text": [
            "787/787 [==============================] - 20s 26ms/step - loss: 0.5722 - accuracy: 0.8434\n"
          ]
        },
        {
          "output_type": "execute_result",
          "data": {
            "text/plain": [
              "[0.5721970200538635, 0.8433600068092346]"
            ]
          },
          "metadata": {},
          "execution_count": 17
        }
      ]
    },
    {
      "cell_type": "markdown",
      "source": [
        "##Model 2 - Bidirectional LSTM with maximum sequence length"
      ],
      "metadata": {
        "id": "pp3T3CqTIlDz"
      }
    },
    {
      "cell_type": "code",
      "source": [
        "rnnModel2 = tf.keras.Sequential([\n",
        "    tf.keras.layers.Embedding(max_words, 64, input_length=max_len),\n",
        "    tf.keras.layers.Bidirectional(tf.keras.layers.LSTM(64, return_sequences=True)),\n",
        "    tf.keras.layers.Bidirectional(tf.keras.layers.LSTM(32)),\n",
        "    tf.keras.layers.Dense(64, activation='relu'),\n",
        "    tf.keras.layers.Dense(1)\n",
        "])\n",
        "rnnModel2.summary()"
      ],
      "metadata": {
        "id": "FUBuYFryAfPf",
        "colab": {
          "base_uri": "https://localhost:8080/"
        },
        "outputId": "69a3c16d-488e-4aa4-a04e-7b573ef675b1"
      },
      "execution_count": null,
      "outputs": [
        {
          "output_type": "stream",
          "name": "stdout",
          "text": [
            "Model: \"sequential_5\"\n",
            "_________________________________________________________________\n",
            " Layer (type)                Output Shape              Param #   \n",
            "=================================================================\n",
            " embedding_5 (Embedding)     (None, 200, 64)           1280000   \n",
            "                                                                 \n",
            " bidirectional_6 (Bidirectio  (None, 200, 128)         66048     \n",
            " nal)                                                            \n",
            "                                                                 \n",
            " bidirectional_7 (Bidirectio  (None, 64)               41216     \n",
            " nal)                                                            \n",
            "                                                                 \n",
            " dense_9 (Dense)             (None, 64)                4160      \n",
            "                                                                 \n",
            " dense_10 (Dense)            (None, 1)                 65        \n",
            "                                                                 \n",
            "=================================================================\n",
            "Total params: 1,391,489\n",
            "Trainable params: 1,391,489\n",
            "Non-trainable params: 0\n",
            "_________________________________________________________________\n"
          ]
        }
      ]
    },
    {
      "cell_type": "code",
      "source": [
        "rnnModel2.compile(optimizer=optimizer, loss=loss_fn, metrics=['accuracy'])"
      ],
      "metadata": {
        "id": "D1qNuCj8E1li"
      },
      "execution_count": null,
      "outputs": []
    },
    {
      "cell_type": "code",
      "source": [
        "rnnModel2.fit(train_data, batch_size=bucket_batch_size, validation_data=test_data,epochs=5)"
      ],
      "metadata": {
        "colab": {
          "base_uri": "https://localhost:8080/"
        },
        "id": "37sno4HPE9Qb",
        "outputId": "f17f7f4c-1e6c-4024-ec68-f6cdf693d21d"
      },
      "execution_count": null,
      "outputs": [
        {
          "output_type": "stream",
          "name": "stdout",
          "text": [
            "Epoch 1/5\n",
            "786/786 [==============================] - 62s 73ms/step - loss: 0.5359 - accuracy: 0.6977 - val_loss: 0.4411 - val_accuracy: 0.8038\n",
            "Epoch 2/5\n",
            "786/786 [==============================] - 55s 71ms/step - loss: 0.2635 - accuracy: 0.8917 - val_loss: 0.2908 - val_accuracy: 0.8752\n",
            "Epoch 3/5\n",
            "786/786 [==============================] - 56s 72ms/step - loss: 0.1701 - accuracy: 0.9350 - val_loss: 0.3018 - val_accuracy: 0.8742\n",
            "Epoch 4/5\n",
            "786/786 [==============================] - 55s 71ms/step - loss: 0.1144 - accuracy: 0.9596 - val_loss: 0.3454 - val_accuracy: 0.8782\n",
            "Epoch 5/5\n",
            "786/786 [==============================] - 55s 71ms/step - loss: 0.0779 - accuracy: 0.9753 - val_loss: 0.3917 - val_accuracy: 0.8832\n"
          ]
        },
        {
          "output_type": "execute_result",
          "data": {
            "text/plain": [
              "<keras.callbacks.History at 0x7f4c44f6bd50>"
            ]
          },
          "metadata": {},
          "execution_count": 25
        }
      ]
    },
    {
      "cell_type": "code",
      "source": [
        "rnnModel2.evaluate(test_data)"
      ],
      "metadata": {
        "colab": {
          "base_uri": "https://localhost:8080/"
        },
        "id": "eak0wStOIZ-j",
        "outputId": "6f2c8929-2cb7-4201-93a5-1c4710caf819"
      },
      "execution_count": null,
      "outputs": [
        {
          "output_type": "stream",
          "name": "stdout",
          "text": [
            "787/787 [==============================] - 20s 26ms/step - loss: 0.3917 - accuracy: 0.8832\n"
          ]
        },
        {
          "output_type": "execute_result",
          "data": {
            "text/plain": [
              "[0.39166027307510376, 0.8832399845123291]"
            ]
          },
          "metadata": {},
          "execution_count": 26
        }
      ]
    },
    {
      "cell_type": "markdown",
      "source": [
        "##Model 3 - Bidirectional RNN without  mask_zero = True\n",
        "\n"
      ],
      "metadata": {
        "id": "UFo0PeZVIyS0"
      }
    },
    {
      "cell_type": "code",
      "source": [
        "rnnModel3 = tf.keras.Sequential([\n",
        "    tf.keras.layers.Embedding(max_words, 64),\n",
        "    tf.keras.layers.Bidirectional(tf.keras.layers.SimpleRNN(32, return_sequences=True)),\n",
        "    tf.keras.layers.Bidirectional(tf.keras.layers.SimpleRNN(64)),\n",
        "    tf.keras.layers.Dense(64, activation='relu'),\n",
        "    tf.keras.layers.Dense(1)\n",
        "])\n",
        "rnnModel3.summary()"
      ],
      "metadata": {
        "colab": {
          "base_uri": "https://localhost:8080/"
        },
        "id": "R5ErjE2uJwV6",
        "outputId": "005b2928-66c3-42cf-e5ce-1b3a21aa6a90"
      },
      "execution_count": null,
      "outputs": [
        {
          "output_type": "stream",
          "name": "stdout",
          "text": [
            "Model: \"sequential_7\"\n",
            "_________________________________________________________________\n",
            " Layer (type)                Output Shape              Param #   \n",
            "=================================================================\n",
            " embedding_8 (Embedding)     (None, None, 64)          1280000   \n",
            "                                                                 \n",
            " bidirectional_10 (Bidirecti  (None, None, 64)         6208      \n",
            " onal)                                                           \n",
            "                                                                 \n",
            " bidirectional_11 (Bidirecti  (None, 128)              16512     \n",
            " onal)                                                           \n",
            "                                                                 \n",
            " dense_13 (Dense)            (None, 64)                8256      \n",
            "                                                                 \n",
            " dense_14 (Dense)            (None, 1)                 65        \n",
            "                                                                 \n",
            "=================================================================\n",
            "Total params: 1,311,041\n",
            "Trainable params: 1,311,041\n",
            "Non-trainable params: 0\n",
            "_________________________________________________________________\n"
          ]
        }
      ]
    },
    {
      "cell_type": "code",
      "source": [
        "rnnModel3.compile(optimizer=optimizer, loss=loss_fn, metrics=['accuracy'])"
      ],
      "metadata": {
        "id": "awU2o4bMK-fO"
      },
      "execution_count": null,
      "outputs": []
    },
    {
      "cell_type": "code",
      "source": [
        "rnnModel3.fit(train_data, batch_size=bucket_batch_size, validation_data=test_data,epochs=5)"
      ],
      "metadata": {
        "colab": {
          "base_uri": "https://localhost:8080/"
        },
        "id": "pxPVvEg0LCw2",
        "outputId": "54174354-02c2-44e3-a2a4-7054f44aa955"
      },
      "execution_count": null,
      "outputs": [
        {
          "output_type": "stream",
          "name": "stdout",
          "text": [
            "Epoch 1/5\n",
            "786/786 [==============================] - 902s 1s/step - loss: 0.6947 - accuracy: 0.5027 - val_loss: 0.6789 - val_accuracy: 0.5168\n",
            "Epoch 2/5\n",
            "786/786 [==============================] - 896s 1s/step - loss: 0.5674 - accuracy: 0.6910 - val_loss: 0.6139 - val_accuracy: 0.6756\n",
            "Epoch 3/5\n",
            "786/786 [==============================] - 902s 1s/step - loss: 0.4411 - accuracy: 0.7853 - val_loss: 0.7261 - val_accuracy: 0.6208\n",
            "Epoch 4/5\n",
            "786/786 [==============================] - 897s 1s/step - loss: 0.3023 - accuracy: 0.8686 - val_loss: 0.8502 - val_accuracy: 0.6458\n",
            "Epoch 5/5\n",
            "786/786 [==============================] - 899s 1s/step - loss: 0.1639 - accuracy: 0.9376 - val_loss: 0.9868 - val_accuracy: 0.6502\n"
          ]
        },
        {
          "output_type": "execute_result",
          "data": {
            "text/plain": [
              "<keras.callbacks.History at 0x7f4c45803cd0>"
            ]
          },
          "metadata": {},
          "execution_count": 33
        }
      ]
    },
    {
      "cell_type": "code",
      "source": [
        "rnnModel3.evaluate(test_data)"
      ],
      "metadata": {
        "colab": {
          "base_uri": "https://localhost:8080/"
        },
        "id": "ojNWtBxScvdZ",
        "outputId": "ed17d886-f806-4bf2-a817-200efc8822ab"
      },
      "execution_count": null,
      "outputs": [
        {
          "output_type": "stream",
          "name": "stdout",
          "text": [
            "787/787 [==============================] - 68s 87ms/step - loss: 0.9868 - accuracy: 0.6502\n"
          ]
        },
        {
          "output_type": "execute_result",
          "data": {
            "text/plain": [
              "[0.9867584109306335, 0.6502400040626526]"
            ]
          },
          "metadata": {},
          "execution_count": 34
        }
      ]
    },
    {
      "cell_type": "markdown",
      "source": [
        "The performance without mask_zero seems to be slow. We also see that the model has overfit. The reason could also be large number of neurons."
      ],
      "metadata": {
        "id": "TId1BOHacONE"
      }
    },
    {
      "cell_type": "markdown",
      "source": [
        "##Model 4 - Bidirectional RNN with mask_zero = True"
      ],
      "metadata": {
        "id": "FNkrZS0cc8xC"
      }
    },
    {
      "cell_type": "code",
      "source": [
        "rnnModel4 = tf.keras.Sequential([\n",
        "    tf.keras.layers.Embedding(max_words, 64,mask_zero=True),\n",
        "    tf.keras.layers.Bidirectional(tf.keras.layers.SimpleRNN(20, return_sequences=True)),\n",
        "    tf.keras.layers.Bidirectional(tf.keras.layers.SimpleRNN(32)),\n",
        "    tf.keras.layers.Dense(32, activation='relu'),\n",
        "    tf.keras.layers.Dense(1)\n",
        "])\n",
        "rnnModel4.summary()"
      ],
      "metadata": {
        "colab": {
          "base_uri": "https://localhost:8080/"
        },
        "id": "Foqy-SVodBVG",
        "outputId": "0f441e02-8572-4c3d-c8ab-475b9d310484"
      },
      "execution_count": null,
      "outputs": [
        {
          "output_type": "stream",
          "name": "stdout",
          "text": [
            "Model: \"sequential_8\"\n",
            "_________________________________________________________________\n",
            " Layer (type)                Output Shape              Param #   \n",
            "=================================================================\n",
            " embedding_9 (Embedding)     (None, None, 64)          1280000   \n",
            "                                                                 \n",
            " bidirectional_12 (Bidirecti  (None, None, 40)         3400      \n",
            " onal)                                                           \n",
            "                                                                 \n",
            " bidirectional_13 (Bidirecti  (None, 64)               4672      \n",
            " onal)                                                           \n",
            "                                                                 \n",
            " dense_15 (Dense)            (None, 32)                2080      \n",
            "                                                                 \n",
            " dense_16 (Dense)            (None, 1)                 33        \n",
            "                                                                 \n",
            "=================================================================\n",
            "Total params: 1,290,185\n",
            "Trainable params: 1,290,185\n",
            "Non-trainable params: 0\n",
            "_________________________________________________________________\n"
          ]
        }
      ]
    },
    {
      "cell_type": "code",
      "source": [
        "rnnModel4.compile(optimizer=optimizer, loss=loss_fn, metrics=['accuracy'])"
      ],
      "metadata": {
        "id": "K0alwWvjdgvO"
      },
      "execution_count": null,
      "outputs": []
    },
    {
      "cell_type": "code",
      "source": [
        "rnnModel4.fit(train_data, batch_size=bucket_batch_size, validation_data=test_data,epochs=5)"
      ],
      "metadata": {
        "colab": {
          "base_uri": "https://localhost:8080/"
        },
        "id": "VdeIK-IPdka9",
        "outputId": "4b82628a-27e4-44bc-a7d7-58692ad77614"
      },
      "execution_count": null,
      "outputs": [
        {
          "output_type": "stream",
          "name": "stdout",
          "text": [
            "Epoch 1/5\n",
            "786/786 [==============================] - 1478s 2s/step - loss: 0.5656 - accuracy: 0.6760 - val_loss: 0.4333 - val_accuracy: 0.8157\n",
            "Epoch 2/5\n",
            "786/786 [==============================] - 1466s 2s/step - loss: 0.3668 - accuracy: 0.8360 - val_loss: 0.4048 - val_accuracy: 0.8176\n",
            "Epoch 3/5\n",
            "786/786 [==============================] - 1425s 2s/step - loss: 0.2343 - accuracy: 0.9024 - val_loss: 0.4368 - val_accuracy: 0.8261\n",
            "Epoch 4/5\n",
            "786/786 [==============================] - 1404s 2s/step - loss: 0.1738 - accuracy: 0.9308 - val_loss: 0.4577 - val_accuracy: 0.8262\n",
            "Epoch 5/5\n",
            "786/786 [==============================] - 1409s 2s/step - loss: 0.1177 - accuracy: 0.9557 - val_loss: 0.5569 - val_accuracy: 0.8343\n"
          ]
        },
        {
          "output_type": "execute_result",
          "data": {
            "text/plain": [
              "<keras.callbacks.History at 0x7f4c32bf0b90>"
            ]
          },
          "metadata": {},
          "execution_count": 37
        }
      ]
    },
    {
      "cell_type": "code",
      "source": [
        "rnnModel4.evaluate(test_data)"
      ],
      "metadata": {
        "colab": {
          "base_uri": "https://localhost:8080/"
        },
        "id": "9_g8ZOTjgDWe",
        "outputId": "16987085-0e86-4dcb-c610-631e88e62f97"
      },
      "execution_count": null,
      "outputs": [
        {
          "output_type": "stream",
          "name": "stdout",
          "text": [
            "787/787 [==============================] - 85s 108ms/step - loss: 0.5569 - accuracy: 0.8343\n"
          ]
        },
        {
          "output_type": "execute_result",
          "data": {
            "text/plain": [
              "[0.5568530559539795, 0.8342800140380859]"
            ]
          },
          "metadata": {},
          "execution_count": 38
        }
      ]
    },
    {
      "cell_type": "markdown",
      "source": [
        "It is seen that the model performs better and a higher accuracy can be seen"
      ],
      "metadata": {
        "id": "epBHb5R49ruW"
      }
    },
    {
      "cell_type": "markdown",
      "source": [
        "## Model 5 - GRU Implementation"
      ],
      "metadata": {
        "id": "f-bdUhYdgKQB"
      }
    },
    {
      "cell_type": "code",
      "source": [
        "rnnModel5 = tf.keras.Sequential([tf.keras.layers.Embedding(max_words, 64 , mask_zero=True), \n",
        "                             tf.keras.layers.GRU(32, return_sequences=True),\n",
        "                             tf.keras.layers.GRU(64, return_sequences=True),\n",
        "                             tf.keras.layers.GRU(128),\n",
        "                             tf.keras.layers.Dense(64,activation='relu'),\n",
        "                             tf.keras.layers.Dense(1)])\n",
        "rnnModel5.summary()"
      ],
      "metadata": {
        "colab": {
          "base_uri": "https://localhost:8080/"
        },
        "id": "-0rNgt4_hMn8",
        "outputId": "d6c2bff3-48b2-4ee8-e195-05ff47601c4a"
      },
      "execution_count": null,
      "outputs": [
        {
          "output_type": "stream",
          "name": "stdout",
          "text": [
            "Model: \"sequential_9\"\n",
            "_________________________________________________________________\n",
            " Layer (type)                Output Shape              Param #   \n",
            "=================================================================\n",
            " embedding_10 (Embedding)    (None, None, 64)          1280000   \n",
            "                                                                 \n",
            " gru (GRU)                   (None, None, 32)          9408      \n",
            "                                                                 \n",
            " gru_1 (GRU)                 (None, None, 64)          18816     \n",
            "                                                                 \n",
            " gru_2 (GRU)                 (None, 128)               74496     \n",
            "                                                                 \n",
            " dense_17 (Dense)            (None, 64)                8256      \n",
            "                                                                 \n",
            " dense_18 (Dense)            (None, 1)                 65        \n",
            "                                                                 \n",
            "=================================================================\n",
            "Total params: 1,391,041\n",
            "Trainable params: 1,391,041\n",
            "Non-trainable params: 0\n",
            "_________________________________________________________________\n"
          ]
        }
      ]
    },
    {
      "cell_type": "code",
      "source": [
        "rnnModel5.compile(optimizer=optimizer, loss=loss_fn, metrics=['accuracy'])"
      ],
      "metadata": {
        "id": "56o-IdhPhXY1"
      },
      "execution_count": null,
      "outputs": []
    },
    {
      "cell_type": "code",
      "source": [
        "rnnModel5.fit(train_data, batch_size=bucket_batch_size, validation_data=test_data,epochs=5)"
      ],
      "metadata": {
        "colab": {
          "base_uri": "https://localhost:8080/"
        },
        "id": "n6-kIukMhbAX",
        "outputId": "b21c3b60-af37-49d6-9d9a-7d3952e7a394"
      },
      "execution_count": null,
      "outputs": [
        {
          "output_type": "stream",
          "name": "stdout",
          "text": [
            "Epoch 1/5\n",
            "786/786 [==============================] - 72s 78ms/step - loss: 0.3768 - accuracy: 0.8110 - val_loss: 0.2836 - val_accuracy: 0.8644\n",
            "Epoch 2/5\n",
            "786/786 [==============================] - 54s 69ms/step - loss: 0.1491 - accuracy: 0.9436 - val_loss: 0.3144 - val_accuracy: 0.8844\n",
            "Epoch 3/5\n",
            "786/786 [==============================] - 54s 69ms/step - loss: 0.0818 - accuracy: 0.9714 - val_loss: 0.4218 - val_accuracy: 0.8652\n",
            "Epoch 4/5\n",
            "786/786 [==============================] - 55s 70ms/step - loss: 0.0486 - accuracy: 0.9832 - val_loss: 0.5142 - val_accuracy: 0.8746\n",
            "Epoch 5/5\n",
            "786/786 [==============================] - 55s 70ms/step - loss: 0.0288 - accuracy: 0.9902 - val_loss: 0.6090 - val_accuracy: 0.8680\n"
          ]
        },
        {
          "output_type": "execute_result",
          "data": {
            "text/plain": [
              "<keras.callbacks.History at 0x7f4be04693d0>"
            ]
          },
          "metadata": {},
          "execution_count": 41
        }
      ]
    },
    {
      "cell_type": "code",
      "source": [
        "rnnModel5.evaluate(test_data)"
      ],
      "metadata": {
        "colab": {
          "base_uri": "https://localhost:8080/"
        },
        "id": "0sEx1xyUhd1p",
        "outputId": "719528e8-93d0-44da-bce3-813775d785e3"
      },
      "execution_count": null,
      "outputs": [
        {
          "output_type": "stream",
          "name": "stdout",
          "text": [
            "787/787 [==============================] - 19s 24ms/step - loss: 0.6090 - accuracy: 0.8680\n"
          ]
        },
        {
          "output_type": "execute_result",
          "data": {
            "text/plain": [
              "[0.6090323328971863, 0.8679599761962891]"
            ]
          },
          "metadata": {},
          "execution_count": 42
        }
      ]
    },
    {
      "cell_type": "markdown",
      "source": [
        "## Model 6 - Bidirectional GRU Implementation"
      ],
      "metadata": {
        "id": "QoFb8__wgPiG"
      }
    },
    {
      "cell_type": "code",
      "source": [
        "rnnModel6 = tf.keras.Sequential([\n",
        "    tf.keras.layers.Embedding(max_words, 64, input_length=max_len),\n",
        "    tf.keras.layers.Bidirectional(tf.keras.layers.GRU(64, return_sequences=True)),\n",
        "    tf.keras.layers.Bidirectional(tf.keras.layers.GRU(32)),\n",
        "    tf.keras.layers.Dense(64, activation='relu'),\n",
        "    tf.keras.layers.Dense(1)\n",
        "])\n",
        "rnnModel6.summary()"
      ],
      "metadata": {
        "colab": {
          "base_uri": "https://localhost:8080/"
        },
        "id": "Xs-HbqvpiOB5",
        "outputId": "59763e46-9295-4b21-cee9-5747c5f9bc75"
      },
      "execution_count": null,
      "outputs": [
        {
          "output_type": "stream",
          "name": "stdout",
          "text": [
            "Model: \"sequential_10\"\n",
            "_________________________________________________________________\n",
            " Layer (type)                Output Shape              Param #   \n",
            "=================================================================\n",
            " embedding_11 (Embedding)    (None, 200, 64)           1280000   \n",
            "                                                                 \n",
            " bidirectional_14 (Bidirecti  (None, 200, 128)         49920     \n",
            " onal)                                                           \n",
            "                                                                 \n",
            " bidirectional_15 (Bidirecti  (None, 64)               31104     \n",
            " onal)                                                           \n",
            "                                                                 \n",
            " dense_19 (Dense)            (None, 64)                4160      \n",
            "                                                                 \n",
            " dense_20 (Dense)            (None, 1)                 65        \n",
            "                                                                 \n",
            "=================================================================\n",
            "Total params: 1,365,249\n",
            "Trainable params: 1,365,249\n",
            "Non-trainable params: 0\n",
            "_________________________________________________________________\n"
          ]
        }
      ]
    },
    {
      "cell_type": "code",
      "source": [
        "rnnModel6.compile(optimizer=optimizer, loss=loss_fn, metrics=['accuracy'])"
      ],
      "metadata": {
        "id": "dxTG0IXTiy75"
      },
      "execution_count": null,
      "outputs": []
    },
    {
      "cell_type": "code",
      "source": [
        "rnnModel6.fit(train_data, batch_size=bucket_batch_size, validation_data=test_data,epochs=5)"
      ],
      "metadata": {
        "colab": {
          "base_uri": "https://localhost:8080/"
        },
        "id": "a21kGJ3ri08V",
        "outputId": "028448b3-3c85-4f36-8ef8-b14005508aa8"
      },
      "execution_count": null,
      "outputs": [
        {
          "output_type": "stream",
          "name": "stdout",
          "text": [
            "Epoch 1/5\n",
            "786/786 [==============================] - 59s 68ms/step - loss: 0.4138 - accuracy: 0.7815 - val_loss: 0.2655 - val_accuracy: 0.8702\n",
            "Epoch 2/5\n",
            "786/786 [==============================] - 53s 67ms/step - loss: 0.1501 - accuracy: 0.9430 - val_loss: 0.2537 - val_accuracy: 0.8964\n",
            "Epoch 3/5\n",
            "786/786 [==============================] - 52s 66ms/step - loss: 0.0776 - accuracy: 0.9737 - val_loss: 0.3795 - val_accuracy: 0.8597\n",
            "Epoch 4/5\n",
            "786/786 [==============================] - 52s 67ms/step - loss: 0.0420 - accuracy: 0.9861 - val_loss: 0.4602 - val_accuracy: 0.8833\n",
            "Epoch 5/5\n",
            "786/786 [==============================] - 52s 66ms/step - loss: 0.0231 - accuracy: 0.9922 - val_loss: 0.5706 - val_accuracy: 0.8633\n"
          ]
        },
        {
          "output_type": "execute_result",
          "data": {
            "text/plain": [
              "<keras.callbacks.History at 0x7f4b6601ed10>"
            ]
          },
          "metadata": {},
          "execution_count": 45
        }
      ]
    },
    {
      "cell_type": "code",
      "source": [
        "rnnModel6.evaluate(test_data)"
      ],
      "metadata": {
        "colab": {
          "base_uri": "https://localhost:8080/"
        },
        "id": "vWEyhZ2qi41n",
        "outputId": "3f963b9b-2fce-4d75-ade3-7d6210e52557"
      },
      "execution_count": null,
      "outputs": [
        {
          "output_type": "stream",
          "name": "stdout",
          "text": [
            "787/787 [==============================] - 19s 24ms/step - loss: 0.5706 - accuracy: 0.8633\n"
          ]
        },
        {
          "output_type": "execute_result",
          "data": {
            "text/plain": [
              "[0.5706406831741333, 0.863319993019104]"
            ]
          },
          "metadata": {},
          "execution_count": 46
        }
      ]
    },
    {
      "cell_type": "markdown",
      "source": [
        "## Model 7 - Bidirectional LSTM with lower vocabulary"
      ],
      "metadata": {
        "id": "pYDw1BMpgdXH"
      }
    },
    {
      "cell_type": "code",
      "source": [
        "rnnModel7 = tf.keras.Sequential([\n",
        "    tf.keras.layers.Embedding(5000, 64, input_length=max_len),\n",
        "    tf.keras.layers.Bidirectional(tf.keras.layers.LSTM(64, return_sequences=True)),\n",
        "    tf.keras.layers.Bidirectional(tf.keras.layers.LSTM(32)),\n",
        "    tf.keras.layers.Dense(64, activation='relu'),\n",
        "    tf.keras.layers.Dense(1)\n",
        "])\n",
        "rnnModel7.summary()"
      ],
      "metadata": {
        "colab": {
          "base_uri": "https://localhost:8080/"
        },
        "id": "PSLsJ7Zgi6C_",
        "outputId": "17018e82-288b-4dd0-c563-9a536ffda523"
      },
      "execution_count": null,
      "outputs": [
        {
          "output_type": "stream",
          "name": "stdout",
          "text": [
            "Model: \"sequential_11\"\n",
            "_________________________________________________________________\n",
            " Layer (type)                Output Shape              Param #   \n",
            "=================================================================\n",
            " embedding_12 (Embedding)    (None, 200, 64)           320000    \n",
            "                                                                 \n",
            " bidirectional_16 (Bidirecti  (None, 200, 128)         66048     \n",
            " onal)                                                           \n",
            "                                                                 \n",
            " bidirectional_17 (Bidirecti  (None, 64)               41216     \n",
            " onal)                                                           \n",
            "                                                                 \n",
            " dense_21 (Dense)            (None, 64)                4160      \n",
            "                                                                 \n",
            " dense_22 (Dense)            (None, 1)                 65        \n",
            "                                                                 \n",
            "=================================================================\n",
            "Total params: 431,489\n",
            "Trainable params: 431,489\n",
            "Non-trainable params: 0\n",
            "_________________________________________________________________\n"
          ]
        }
      ]
    },
    {
      "cell_type": "code",
      "source": [
        "rnnModel7.compile(optimizer=optimizer, loss=loss_fn, metrics=['accuracy'])"
      ],
      "metadata": {
        "id": "8B32C3W-jFSQ"
      },
      "execution_count": null,
      "outputs": []
    },
    {
      "cell_type": "code",
      "source": [
        "rnnModel7.fit(train_data, batch_size=bucket_batch_size, validation_data=test_data,epochs=5)"
      ],
      "metadata": {
        "colab": {
          "base_uri": "https://localhost:8080/"
        },
        "id": "Nrl_d60vjHBz",
        "outputId": "daeed5ea-f2a7-44a9-90c2-b39581b11383"
      },
      "execution_count": null,
      "outputs": [
        {
          "output_type": "stream",
          "name": "stdout",
          "text": [
            "Epoch 1/5\n",
            "786/786 [==============================] - 63s 72ms/step - loss: 0.6665 - accuracy: 0.5501 - val_loss: 0.6266 - val_accuracy: 0.6550\n",
            "Epoch 2/5\n",
            "786/786 [==============================] - 55s 70ms/step - loss: 0.4175 - accuracy: 0.7978 - val_loss: 0.3438 - val_accuracy: 0.8366\n",
            "Epoch 3/5\n",
            "786/786 [==============================] - 55s 70ms/step - loss: 0.2512 - accuracy: 0.8974 - val_loss: 0.2746 - val_accuracy: 0.8787\n",
            "Epoch 4/5\n",
            "786/786 [==============================] - 55s 70ms/step - loss: 0.2037 - accuracy: 0.9218 - val_loss: 0.2650 - val_accuracy: 0.8853\n",
            "Epoch 5/5\n",
            "786/786 [==============================] - 55s 70ms/step - loss: 0.1630 - accuracy: 0.9415 - val_loss: 0.2854 - val_accuracy: 0.8868\n"
          ]
        },
        {
          "output_type": "execute_result",
          "data": {
            "text/plain": [
              "<keras.callbacks.History at 0x7f4b69d72410>"
            ]
          },
          "metadata": {},
          "execution_count": 49
        }
      ]
    },
    {
      "cell_type": "code",
      "source": [
        "rnnModel7.evaluate(test_data)"
      ],
      "metadata": {
        "colab": {
          "base_uri": "https://localhost:8080/"
        },
        "id": "305YllpYjKNn",
        "outputId": "e801fe21-9c0a-482b-a09a-6ad34d4367de"
      },
      "execution_count": null,
      "outputs": [
        {
          "output_type": "stream",
          "name": "stdout",
          "text": [
            "787/787 [==============================] - 20s 25ms/step - loss: 0.2854 - accuracy: 0.8868\n"
          ]
        },
        {
          "output_type": "execute_result",
          "data": {
            "text/plain": [
              "[0.28544676303863525, 0.8867999911308289]"
            ]
          },
          "metadata": {},
          "execution_count": 50
        }
      ]
    },
    {
      "cell_type": "markdown",
      "source": [
        "With lower vocabulary the model performs better"
      ],
      "metadata": {
        "id": "9hh00gF0934O"
      }
    }
  ],
  "metadata": {
    "colab": {
      "provenance": [],
      "include_colab_link": true
    },
    "kernelspec": {
      "display_name": "Python 3",
      "language": "python",
      "name": "python3"
    },
    "language_info": {
      "codemirror_mode": {
        "name": "ipython",
        "version": 3
      },
      "file_extension": ".py",
      "mimetype": "text/x-python",
      "name": "python",
      "nbconvert_exporter": "python",
      "pygments_lexer": "ipython3",
      "version": "3.6.8"
    },
    "accelerator": "GPU",
    "gpuClass": "standard"
  },
  "nbformat": 4,
  "nbformat_minor": 0
}