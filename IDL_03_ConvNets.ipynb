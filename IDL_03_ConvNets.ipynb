{
  "cells": [
    {
      "cell_type": "markdown",
      "metadata": {
        "id": "view-in-github",
        "colab_type": "text"
      },
      "source": [
        "<a href=\"https://colab.research.google.com/github/jeffyelson/IntroductiontoDeepLearning/blob/main/IDL_03_ConvNets.ipynb\" target=\"_parent\"><img src=\"https://colab.research.google.com/assets/colab-badge.svg\" alt=\"Open In Colab\"/></a>"
      ]
    },
    {
      "cell_type": "code",
      "execution_count": null,
      "metadata": {
        "id": "IECA1vLqBZXp"
      },
      "outputs": [],
      "source": [
        "import tensorflow as tf\n",
        "import numpy as np\n",
        "import matplotlib.pyplot as plt"
      ]
    },
    {
      "cell_type": "code",
      "execution_count": null,
      "metadata": {
        "colab": {
          "base_uri": "https://localhost:8080/",
          "height": 317
        },
        "id": "KsNvNVjNBZXw",
        "outputId": "5eb81fa5-7157-491a-c7eb-c4b925e79e93"
      },
      "outputs": [
        {
          "output_type": "stream",
          "name": "stdout",
          "text": [
            "Downloading data from https://storage.googleapis.com/tensorflow/tf-keras-datasets/mnist.npz\n",
            "11490434/11490434 [==============================] - 0s 0us/step\n",
            "5\n"
          ]
        },
        {
          "output_type": "display_data",
          "data": {
            "text/plain": [
              "<Figure size 432x288 with 1 Axes>"
            ],
            "image/png": "[encoded data removed]"
          },
          "metadata": {
            "needs_background": "light"
          }
        }
      ],
      "source": [
        "*mnist = tf.keras.datasets.mnist\n",
        "(train_images, train_labels), (test_images, test_labels) = mnist.load_data()\n",
        "\n",
        "print(train_labels[0])\n",
        "plt.imshow(train_images[0], cmap=\"Greys_r\")\n",
        "\n",
        "# first difference: data is not reshaped to 784 anymore, but 28x28x1\n",
        "# note the 1 color channel!! this is important\n",
        "train_data = tf.data.Dataset.from_tensor_slices(\n",
        "    (train_images.reshape([-1, 28, 28, 1]).astype(np.float32) / 255, train_labels.astype(np.int32)))\n",
        "train_data = train_data.shuffle(buffer_size=60000).batch(128).repeat()\n",
        "\n",
        "test_images = test_images.reshape([-1, 28, 28, 1]).astype(np.float32) / 255\n",
        "test_labels = test_labels.astype(np.int32)\n",
        "*\n",
        "test_data = tf.data.Dataset.from_tensor_slices(\n",
        "    (test_images, test_labels)).batch(128)"
      ]
    },
    {
      "cell_type": "code",
      "execution_count": null,
      "metadata": {
        "id": "9RT58-w3BZXx"
      },
      "outputs": [],
      "source": [
        "train_steps = 2500\n",
        "\n",
        "model = tf.keras.Sequential([\n",
        "    \n",
        "    #first convolution layer\n",
        "    tf.keras.layers.Conv2D(32, (3, 3), activation=\"relu\",padding='same'),\n",
        "    tf.keras.layers.MaxPooling2D((2, 2), strides=2,padding='same'),\n",
        "\n",
        "    #second convolution layer\n",
        "    tf.keras.layers.Conv2D(64, (3, 3), activation=\"relu\",padding='same'),\n",
        "    tf.keras.layers.MaxPooling2D((2, 2), strides=2,padding='same'),\n",
        "\n",
        "    #Flatten\n",
        "    tf.keras.layers.Flatten(),\n",
        "\n",
        "    #output layer\n",
        "    #tf.keras.layers.Dense(128,activation=\"relu\"),\n",
        "    tf.keras.layers.Dense(10)\n",
        "])\n",
        "optimizer = tf.keras.optimizers.Adam(learning_rate=0.05)\n",
        "loss_fn = tf.losses.SparseCategoricalCrossentropy(from_logits=True)"
      ]
    },
    {
      "cell_type": "code",
      "execution_count": null,
      "metadata": {
        "colab": {
          "base_uri": "https://localhost:8080/"
        },
        "id": "TVYP0T6IBZXy",
        "outputId": "10de0d1c-1c67-496c-eef4-63a6f2b545d4"
      },
      "outputs": [
        {
          "output_type": "stream",
          "name": "stdout",
          "text": [
            "Step 0 Loss: 2.313544750213623 Accuracy: 0.125\n",
            "Step 100 Loss: 0.16334038972854614 Accuracy: 0.8121874928474426\n",
            "Step 200 Loss: 0.22055524587631226 Accuracy: 0.9414843916893005\n",
            "Step 300 Loss: 0.17726153135299683 Accuracy: 0.9446874856948853\n",
            "Step 400 Loss: 0.1333964765071869 Accuracy: 0.9568750262260437\n",
            "Step 500 Loss: 0.09879229962825775 Accuracy: 0.9512844681739807\n",
            "Step 600 Loss: 0.19768789410591125 Accuracy: 0.9612500071525574\n",
            "Step 700 Loss: 0.02787507325410843 Accuracy: 0.962109386920929\n",
            "Step 800 Loss: 0.058468542993068695 Accuracy: 0.9593750238418579\n",
            "Step 900 Loss: 0.11865168809890747 Accuracy: 0.9618750214576721\n",
            "Step 1000 Loss: 0.13916456699371338 Accuracy: 0.9696115255355835\n",
            "Step 1100 Loss: 0.06468477100133896 Accuracy: 0.962109386920929\n",
            "Step 1200 Loss: 0.05832729488611221 Accuracy: 0.9614843726158142\n",
            "Step 1300 Loss: 0.10697980225086212 Accuracy: 0.9560937285423279\n",
            "Step 1400 Loss: 0.030540069565176964 Accuracy: 0.958984375\n",
            "Step 1500 Loss: 0.16616326570510864 Accuracy: 0.9652255773544312\n",
            "Step 1600 Loss: 0.027660546824336052 Accuracy: 0.9652343988418579\n",
            "Step 1700 Loss: 0.13951316475868225 Accuracy: 0.9616405963897705\n",
            "Step 1800 Loss: 0.18652376532554626 Accuracy: 0.9609375\n",
            "Step 1900 Loss: 0.08741700649261475 Accuracy: 0.9628759622573853\n",
            "Step 2000 Loss: 0.125624418258667 Accuracy: 0.9645312428474426\n",
            "Step 2100 Loss: 0.060768261551856995 Accuracy: 0.963671863079071\n",
            "Step 2200 Loss: 0.1289234310388565 Accuracy: 0.9635156393051147\n",
            "Step 2300 Loss: 0.06002454459667206 Accuracy: 0.9595312476158142\n",
            "Step 2400 Loss: 0.08733845502138138 Accuracy: 0.9594298005104065\n",
            "Step 2500 Loss: 0.19740915298461914 Accuracy: 0.9587500095367432\n"
          ]
        }
      ],
      "source": [
        "train_acc_metric = tf.keras.metrics.SparseCategoricalAccuracy()\n",
        "\n",
        "for step, (image_batch, label_batch) in enumerate(train_data):\n",
        "    if step > train_steps:\n",
        "        break\n",
        "\n",
        "    with tf.GradientTape() as tape:\n",
        "        logits = model(image_batch)\n",
        "        # loss format is generally: first argument targets, second argument outputs\n",
        "        loss = loss_fn(label_batch, logits)\n",
        "\n",
        "    # if you didn't build the model, it is important that you get the variables\n",
        "    # AFTER the model has been called the first time\n",
        "    variables = model.trainable_variables\n",
        "    gradients = tape.gradient(loss, variables)\n",
        "      \n",
        "    optimizer.apply_gradients(zip(gradients, variables))\n",
        "    \n",
        "    train_acc_metric(label_batch, logits)\n",
        "    \n",
        "    if not step % 100:\n",
        "        # this is different from before. there, we only evaluated accuracy\n",
        "        # for one batch. Now, we always average over 100 batches\n",
        "        print(\"Step {} Loss: {} Accuracy: {}\".format(step, loss, train_acc_metric.result()))\n",
        "        train_acc_metric.reset_states()\n",
        "        \n",
        "del tape   "
      ]
    },
    {
      "cell_type": "code",
      "execution_count": null,
      "metadata": {
        "colab": {
          "base_uri": "https://localhost:8080/"
        },
        "id": "b8IPQC4_BZXz",
        "outputId": "84ba9539-3edf-44ab-e38a-e7dbf4d98150"
      },
      "outputs": [
        {
          "name": "stdout",
          "output_type": "stream",
          "text": [
            "Test acc: 0.9610999822616577\n"
          ]
        }
      ],
      "source": [
        "# this is very convenient -- before, we usually had code that\n",
        "# evaluates the whole test set at once -- this won't work for\n",
        "# large datasets/models. With metrics, we can just iterate\n",
        "# over the data and the metric takes care of averaging etc.\n",
        "\n",
        "test_acc_metric = tf.keras.metrics.SparseCategoricalAccuracy()\n",
        "for image_batch, label_batch in test_data:\n",
        "    test_acc_metric(label_batch, model(image_batch))\n",
        "print(\"Test acc: {}\".format(test_acc_metric.result()))"
      ]
    },
    {
      "cell_type": "markdown",
      "metadata": {
        "id": "mJWc7Un27j4T"
      },
      "source": [
        "## ConvNets using CIFAR10 Dataset"
      ]
    },
    {
      "cell_type": "code",
      "execution_count": null,
      "metadata": {
        "id": "qPg3k4S47t7u",
        "colab": {
          "base_uri": "https://localhost:8080/"
        },
        "outputId": "4153fa51-a27e-4ef5-d31e-51c234546550"
      },
      "outputs": [
        {
          "output_type": "stream",
          "name": "stdout",
          "text": [
            "Downloading data from https://www.cs.toronto.edu/~kriz/cifar-10-python.tar.gz\n",
            "170498071/170498071 [==============================] - 2s 0us/step\n"
          ]
        }
      ],
      "source": [
        "cifar10 = tf.keras.datasets.cifar10\n",
        "(train_images_c10, train_labels_c10), (test_images_c10, test_labels_c10) = cifar10.load_data()\n",
        "\n",
        "##Reference - https://www.tensorflow.org/tutorials/images/cnn\n",
        "\n",
        "train_labels_c10 = tf.keras.utils.to_categorical(train_labels_c10)\n",
        "test_labels_c10 = tf.keras.utils.to_categorical(test_labels_c10)\n"
      ]
    },
    {
      "cell_type": "code",
      "execution_count": null,
      "metadata": {
        "id": "JOBuWq1I9sWL"
      },
      "outputs": [],
      "source": [
        "train_data_c10 = tf.data.Dataset.from_tensor_slices(\n",
        "    (train_images_c10.reshape([-1, 32, 32, 3]).astype(np.float32) / 255, train_labels_c10.astype(np.int32)))\n",
        "train_data_c10 = train_data_c10.shuffle(buffer_size=60000).batch(128).repeat()\n",
        "\n",
        "test_images_c10 = test_images_c10.reshape([-1, 32, 32, 3]).astype(np.float32) / 255\n",
        "test_labels_c10 = test_labels_c10.astype(np.int32)\n",
        "\n",
        "test_data_c10 = tf.data.Dataset.from_tensor_slices(\n",
        "    (test_images_c10, test_labels_c10)).batch(128)"
      ]
    },
    {
      "cell_type": "code",
      "execution_count": null,
      "metadata": {
        "id": "_2As4twvIiQX"
      },
      "outputs": [],
      "source": [
        "train_steps = 2500\n",
        "\n",
        "\n",
        "model2 = tf.keras.Sequential([\n",
        "    \n",
        "    #first convolution layer\n",
        "    tf.keras.layers.Conv2D(32, (3, 3), activation=\"relu\",kernel_initializer='he_uniform',use_bias=True,input_shape=(32,32,3)),\n",
        "    tf.keras.layers.Conv2D(32, (3, 3), activation=\"relu\",kernel_initializer='he_uniform',use_bias=True,padding='SAME'),\n",
        "    tf.keras.layers.MaxPooling2D((2, 2),strides=2),\n",
        "\n",
        "    #second convolution layer\n",
        "    tf.keras.layers.Conv2D(32, (3, 3), activation=\"relu\",kernel_initializer='he_uniform',use_bias=True,padding='SAME'),\n",
        "    tf.keras.layers.Conv2D(32, (3, 3), activation=\"relu\",kernel_initializer='he_uniform',use_bias=True,padding='SAME'),\n",
        "    tf.keras.layers.MaxPooling2D((2, 2),strides=2),\n",
        "\n",
        "    #third convolution layer\n",
        "    tf.keras.layers.Conv2D(32, (3, 3), activation=\"relu\",padding='SAME'),\n",
        "    tf.keras.layers.Conv2D(32, (3,3), activation=\"relu\",padding='SAME'),\n",
        "    tf.keras.layers.MaxPooling2D((2, 2),strides=2),\n",
        "\n",
        "    #Flatten\n",
        "    tf.keras.layers.Flatten(),\n",
        "\n",
        "    #output layer\n",
        "    tf.keras.layers.Dense(128,activation=\"relu\"),\n",
        "    tf.keras.layers.Dense(10,activation=\"softmax\")\n",
        "])\n",
        "optimizer2 = tf.keras.optimizers.Adam(learning_rate=0.001)\n",
        "loss_fn2 = tf.keras.losses.CategoricalCrossentropy(from_logits=False)\n",
        "model2.build()"
      ]
    },
    {
      "cell_type": "code",
      "execution_count": null,
      "metadata": {
        "colab": {
          "base_uri": "https://localhost:8080/"
        },
        "id": "afCElJNfJXtp",
        "outputId": "9ae5070a-89b2-4eda-cf34-f9cede079d47"
      },
      "outputs": [
        {
          "output_type": "stream",
          "name": "stdout",
          "text": [
            "Step 0 Loss: 2.342642068862915 Accuracy: 0.09375\n",
            "Step 100 Loss: 1.711855411529541 Accuracy: 0.27085936069488525\n",
            "Step 200 Loss: 1.6306042671203613 Accuracy: 0.408203125\n",
            "Step 300 Loss: 1.4589457511901855 Accuracy: 0.46976563334465027\n",
            "Step 400 Loss: 1.3054313659667969 Accuracy: 0.5134880542755127\n",
            "Step 500 Loss: 1.1809064149856567 Accuracy: 0.5500781536102295\n",
            "Step 600 Loss: 1.2064803838729858 Accuracy: 0.5669531226158142\n",
            "Step 700 Loss: 1.1401807069778442 Accuracy: 0.5860156416893005\n",
            "Step 800 Loss: 1.0931447744369507 Accuracy: 0.6029642224311829\n",
            "Step 900 Loss: 1.057612419128418 Accuracy: 0.6231250166893005\n",
            "Step 1000 Loss: 1.014563798904419 Accuracy: 0.6337500214576721\n",
            "Step 1100 Loss: 0.8469104766845703 Accuracy: 0.6321874856948853\n",
            "Step 1200 Loss: 1.184548258781433 Accuracy: 0.648760974407196\n",
            "Step 1300 Loss: 0.917815089225769 Accuracy: 0.6783593893051147\n",
            "Step 1400 Loss: 1.0334255695343018 Accuracy: 0.6756250262260437\n",
            "Step 1500 Loss: 0.861527681350708 Accuracy: 0.6789844036102295\n",
            "Step 1600 Loss: 0.7040868997573853 Accuracy: 0.6900094151496887\n",
            "Step 1700 Loss: 0.9182824492454529 Accuracy: 0.6982031464576721\n",
            "Step 1800 Loss: 0.8967548608779907 Accuracy: 0.70703125\n",
            "Step 1900 Loss: 0.8787373900413513 Accuracy: 0.7142187356948853\n",
            "Step 2000 Loss: 0.8231550455093384 Accuracy: 0.7229453921318054\n",
            "Step 2100 Loss: 0.9143762588500977 Accuracy: 0.7289062738418579\n",
            "Step 2200 Loss: 0.6985192894935608 Accuracy: 0.7235937714576721\n",
            "Step 2300 Loss: 0.8769201040267944 Accuracy: 0.7378906011581421\n",
            "Step 2400 Loss: 0.6080561876296997 Accuracy: 0.7537640929222107\n",
            "Step 2500 Loss: 0.8787451982498169 Accuracy: 0.7539843916893005\n"
          ]
        }
      ],
      "source": [
        "train_acc_metric_c10 = tf.keras.metrics.CategoricalAccuracy()\n",
        "\n",
        "for step, (image_batch, label_batch) in enumerate(train_data_c10):\n",
        "\n",
        "    if step > train_steps:\n",
        "        break\n",
        "\n",
        "    with tf.GradientTape(persistent=True) as tape4:\n",
        "        logits_c10 = model2(image_batch)\n",
        "        # loss format is generally: first argument targets, second argument outputs\n",
        "        loss_c10 = loss_fn2(label_batch, logits_c10)\n",
        "\n",
        "    # if you didn't build the model, it is important that you get the variables\n",
        "    # AFTER the model has been called the first time\n",
        "    variables_c10 = model2.trainable_variables\n",
        "    gradients_c10 = tape4.gradient(loss_c10, variables_c10)\n",
        "      \n",
        "    optimizer2.apply_gradients(zip(gradients_c10, variables_c10))\n",
        "    \n",
        "    train_acc_metric_c10(label_batch, logits_c10)\n",
        "    \n",
        "    if not step % 100:\n",
        "        # this is different from before. there, we only evaluated accuracy\n",
        "        # for one batch. Now, we always average over 100 batches\n",
        "        print(\"Step {} Loss: {} Accuracy: {}\".format(step, loss_c10, train_acc_metric_c10.result()))\n",
        "        train_acc_metric_c10.reset_states()\n",
        "\n",
        "del tape4\n",
        "    "
      ]
    },
    {
      "cell_type": "code",
      "source": [
        "test_acc_metric_c10 = tf.keras.metrics.CategoricalAccuracy()\n",
        "for image_batch, label_batch in test_data_c10:\n",
        "    test_acc_metric_c10(label_batch, model2(image_batch))\n",
        "print(\"Test acc: {}\".format(test_acc_metric_c10.result()))"
      ],
      "metadata": {
        "colab": {
          "base_uri": "https://localhost:8080/"
        },
        "id": "EoMUF5QxcGg2",
        "outputId": "5ba373b1-dc82-4653-d7d8-e8df4899e32c"
      },
      "execution_count": null,
      "outputs": [
        {
          "output_type": "stream",
          "name": "stdout",
          "text": [
            "Test acc: 0.10000000149011612\n"
          ]
        }
      ]
    }
  ],
  "metadata": {
    "colab": {
      "collapsed_sections": [],
      "provenance": [],
      "include_colab_link": true
    },
    "kernelspec": {
      "display_name": "Python 3",
      "language": "python",
      "name": "python3"
    },
    "language_info": {
      "codemirror_mode": {
        "name": "ipython",
        "version": 3
      },
      "file_extension": ".py",
      "mimetype": "text/x-python",
      "name": "python",
      "nbconvert_exporter": "python",
      "pygments_lexer": "ipython3",
      "version": "3.6.8"
    }
  },
  "nbformat": 4,
  "nbformat_minor": 0
}