{
  "nbformat": 4,
  "nbformat_minor": 0,
  "metadata": {
    "colab": {
      "provenance": [],
      "collapsed_sections": [],
      "authorship_tag": "ABX9TyN1lvx+QcdQcxlATH30TOT5",
      "include_colab_link": true
    },
    "kernelspec": {
      "name": "python3",
      "display_name": "Python 3"
    },
    "language_info": {
      "name": "python"
    }
  },
  "cells": [
    {
      "cell_type": "markdown",
      "metadata": {
        "id": "view-in-github",
        "colab_type": "text"
      },
      "source": [
        "<a href=\"https://colab.research.google.com/github/jeffyelson/IntroductiontoDeepLearning/blob/main/IDLAssignment_01_MNIST_MLP.ipynb\" target=\"_parent\"><img src=\"https://colab.research.google.com/assets/colab-badge.svg\" alt=\"Open In Colab\"/></a>"
      ]
    },
    {
      "cell_type": "markdown",
      "source": [
        "###Importing TensorFlow, Numpy , Matplotlib and datasets.py\n"
      ],
      "metadata": {
        "id": "LF28bdoVnVZV"
      }
    },
    {
      "cell_type": "code",
      "execution_count": 25,
      "metadata": {
        "id": "bZ4jwWGYe_jC"
      },
      "outputs": [],
      "source": [
        "import tensorflow as tf\n",
        "import numpy as np\n",
        "import matplotlib.pyplot as plt\n",
        "from datasets import MNISTDataset"
      ]
    },
    {
      "cell_type": "markdown",
      "source": [
        "###Loading the MNIST Dataset"
      ],
      "metadata": {
        "id": "4w8Dgq22oBJ3"
      }
    },
    {
      "cell_type": "code",
      "source": [
        "mnist = tf.keras.datasets.mnist\n",
        "(train_images, train_labels), (test_images, test_labels) = mnist.load_data()"
      ],
      "metadata": {
        "id": "6gKVvE8NpOkT"
      },
      "execution_count": 26,
      "outputs": []
    },
    {
      "cell_type": "code",
      "source": [
        "plt.imshow(train_images[10], cmap=\"Greys_r\")"
      ],
      "metadata": {
        "colab": {
          "base_uri": "https://localhost:8080/",
          "height": 282
        },
        "id": "7WT5GZ2TpmHC",
        "outputId": "02deddf4-43fd-4a19-9175-9320034f4c45"
      },
      "execution_count": 27,
      "outputs": [
        {
          "output_type": "execute_result",
          "data": {
            "text/plain": [
              "<matplotlib.image.AxesImage at 0x7f1e3f134d90>"
            ]
          },
          "metadata": {},
          "execution_count": 27
        },
        {
          "output_type": "display_data",
          "data": {
            "text/plain": [
              "<Figure size 432x288 with 1 Axes>"
            ],
            "image/png": "[encoded data removed]"
          },
          "metadata": {
            "needs_background": "light"
          }
        }
      ]
    },
    {
      "cell_type": "code",
      "source": [
        "train_images[10].shape"
      ],
      "metadata": {
        "colab": {
          "base_uri": "https://localhost:8080/"
        },
        "id": "wTQItVNYp_1T",
        "outputId": "d16e7e6b-53bc-4873-8b8d-c5cf7f06bae4"
      },
      "execution_count": 28,
      "outputs": [
        {
          "output_type": "execute_result",
          "data": {
            "text/plain": [
              "(28, 28)"
            ]
          },
          "metadata": {},
          "execution_count": 28
        }
      ]
    },
    {
      "cell_type": "markdown",
      "source": [
        "###Reshaping the 28*28 image pixels to a column"
      ],
      "metadata": {
        "id": "TqzOiVf3rEAl"
      }
    },
    {
      "cell_type": "code",
      "source": [
        "data = MNISTDataset(train_images.reshape([-1, 784]), train_labels, \n",
        "                    test_images.reshape([-1, 784]), test_labels,\n",
        "                    batch_size=128)"
      ],
      "metadata": {
        "id": "mx6CJgBLrlph"
      },
      "execution_count": 29,
      "outputs": []
    },
    {
      "cell_type": "code",
      "source": [
        "#Shape and Size of Entire Dataset\n",
        "data.train_data.shape"
      ],
      "metadata": {
        "colab": {
          "base_uri": "https://localhost:8080/"
        },
        "id": "AgkiKAOGru-R",
        "outputId": "32977abb-d798-4fbe-8a1f-9a222e407b12"
      },
      "execution_count": 30,
      "outputs": [
        {
          "output_type": "execute_result",
          "data": {
            "text/plain": [
              "(60000, 784)"
            ]
          },
          "metadata": {},
          "execution_count": 30
        }
      ]
    },
    {
      "cell_type": "code",
      "source": [
        "#Reshaped Training Data\n",
        "data.train_data[0].shape"
      ],
      "metadata": {
        "colab": {
          "base_uri": "https://localhost:8080/"
        },
        "id": "Kg6f_vDMsKPy",
        "outputId": "6e211cd2-0367-449b-c31c-01c2e6c633fe"
      },
      "execution_count": 31,
      "outputs": [
        {
          "output_type": "execute_result",
          "data": {
            "text/plain": [
              "(784,)"
            ]
          },
          "metadata": {},
          "execution_count": 31
        }
      ]
    },
    {
      "cell_type": "markdown",
      "source": [
        "###Initialization of weights and biases"
      ],
      "metadata": {
        "id": "4JsDqhX3tefb"
      }
    },
    {
      "cell_type": "markdown",
      "source": [
        "If we initialize all the weights to zero then during backpropagation the gradient calculated will be same for all the hidden layers. Therefore this will lead to a deterministic output and all the hidden layer units will be symmetric. We need to therefore do a symmetry breaking initialization. We can randomly initialize values. Two standard distributions to initialize the network parameters are the Gaussian or uniform distributions.\n",
        "\n",
        "Random Normal Distribution in TensorFlow\n",
        "tf.random.normal(\n",
        "    shape,\n",
        "    mean=0.0,\n",
        "    stddev=1.0,\n",
        "    dtype=tf.dtypes.float32,\n",
        "    seed=None,\n",
        "    name=None\n",
        ")\n",
        "\n",
        "\n",
        "*   The initialization has usually zero mean and standard deviation one.\n",
        "\n",
        "*   The biases are usually set to zeros or ones."
      ],
      "metadata": {
        "id": "yuHHeC5otpBk"
      }
    },
    {
      "cell_type": "markdown",
      "source": [
        "######Initialization-Normal + ActivationFunction=ReLu"
      ],
      "metadata": {
        "id": "yq22_zdHspFO"
      }
    },
    {
      "cell_type": "code",
      "source": [
        "W1 = tf.Variable(tf.random.normal(shape = [784, 128],\n",
        "    mean=0.0, stddev=0.05, seed=None))\n",
        "b1 = tf.Variable(np.zeros(128, dtype=np.float32))\n",
        "\n",
        "W2 = tf.Variable(tf.random.normal(shape = [128, 10],\n",
        "    mean=0.0, stddev=0.05, seed=None))\n",
        "b2 = tf.Variable(np.zeros(10, dtype=np.float32))\n",
        "\n",
        "\n",
        "def model1(inputs):\n",
        "  #Computing the hidden layers - We choose relu activation function\n",
        "  h1 = tf.nn.relu(tf.matmul(inputs,W1)+b1)\n",
        "  h2 = tf.nn.relu(tf.matmul(h1,W2)+b2)\n",
        "\n",
        "  #I tried sigmoid activation function but it has around 83 - 85 percent accuracy. ReLu performs better.\n",
        "\n",
        "\n",
        "\n",
        "\n",
        "  return h2\n",
        "\n"
      ],
      "metadata": {
        "id": "I8nkCy5MyQv6"
      },
      "execution_count": 32,
      "outputs": []
    },
    {
      "cell_type": "code",
      "source": [
        "train_steps = 2000\n",
        "learning_rate = 0.1"
      ],
      "metadata": {
        "id": "jGTECQuz9nTx"
      },
      "execution_count": 33,
      "outputs": []
    },
    {
      "cell_type": "code",
      "source": [
        "# training loop\n",
        "\n",
        "for step in range(train_steps+1):\n",
        "    image_batch, label_batch = data.next_batch()\n",
        "\n",
        "    with tf.GradientTape(persistent=True) as tape:\n",
        "        logits = model1(image_batch)\n",
        "        xent = tf.reduce_mean(tf.nn.sparse_softmax_cross_entropy_with_logits(\n",
        "            logits=logits, labels=label_batch))\n",
        "  \n",
        "    grads = tape.gradient(xent, [W1, b1])\n",
        "    W1.assign_sub(learning_rate * grads[0])\n",
        "    b1.assign_sub(learning_rate * grads[1])\n",
        "\n",
        "    grads2 = tape.gradient(xent, [W2, b2])\n",
        "    W2.assign_sub(learning_rate * grads2[0])\n",
        "    b2.assign_sub(learning_rate * grads2[1])\n",
        "\n",
        "    \n",
        "    # every so often we print loss/accuracy\n",
        "    if not step % 100:\n",
        "        preds = tf.argmax(logits, axis=1, output_type=tf.int32)\n",
        "        acc = tf.reduce_mean(tf.cast(tf.equal(preds, label_batch),\n",
        "                             tf.float32))\n",
        "        print(\"Step {}. Batch loss: {} Batch accuracy: {}\".format(step+1, xent, acc))\n",
        "    \n",
        "del tape"
      ],
      "metadata": {
        "colab": {
          "base_uri": "https://localhost:8080/"
        },
        "id": "r0wWUnPZ_Lg9",
        "outputId": "e48c978e-c2fa-42b3-98b7-986407b81dab"
      },
      "execution_count": 34,
      "outputs": [
        {
          "output_type": "stream",
          "name": "stdout",
          "text": [
            "Step 1. Batch loss: 2.3046133518218994 Batch accuracy: 0.109375\n",
            "Step 101. Batch loss: 0.5693728923797607 Batch accuracy: 0.8671875\n",
            "Step 201. Batch loss: 0.45631730556488037 Batch accuracy: 0.8671875\n",
            "Step 301. Batch loss: 0.38184309005737305 Batch accuracy: 0.9140625\n",
            "Step 401. Batch loss: 0.3502623438835144 Batch accuracy: 0.8984375\n",
            "Starting new epoch...\n",
            "Step 501. Batch loss: 0.3632490336894989 Batch accuracy: 0.9140625\n",
            "Step 601. Batch loss: 0.17942240834236145 Batch accuracy: 0.953125\n",
            "Step 701. Batch loss: 0.27478712797164917 Batch accuracy: 0.90625\n",
            "Step 801. Batch loss: 0.3601808249950409 Batch accuracy: 0.875\n",
            "Step 901. Batch loss: 0.30228471755981445 Batch accuracy: 0.890625\n",
            "Starting new epoch...\n",
            "Step 1001. Batch loss: 0.15435072779655457 Batch accuracy: 0.96875\n",
            "Step 1101. Batch loss: 0.19857802987098694 Batch accuracy: 0.953125\n",
            "Step 1201. Batch loss: 0.130287766456604 Batch accuracy: 0.9609375\n",
            "Step 1301. Batch loss: 0.25763261318206787 Batch accuracy: 0.9140625\n",
            "Step 1401. Batch loss: 0.17950233817100525 Batch accuracy: 0.9296875\n",
            "Starting new epoch...\n",
            "Step 1501. Batch loss: 0.198665589094162 Batch accuracy: 0.9375\n",
            "Step 1601. Batch loss: 0.19792616367340088 Batch accuracy: 0.9296875\n",
            "Step 1701. Batch loss: 0.20804110169410706 Batch accuracy: 0.9375\n",
            "Step 1801. Batch loss: 0.13611319661140442 Batch accuracy: 0.9609375\n",
            "Starting new epoch...\n",
            "Step 1901. Batch loss: 0.13695989549160004 Batch accuracy: 0.953125\n",
            "Step 2001. Batch loss: 0.1301625519990921 Batch accuracy: 0.9375\n"
          ]
        }
      ]
    },
    {
      "cell_type": "code",
      "metadata": {
        "id": "pGSRvdL5j6iz",
        "colab": {
          "base_uri": "https://localhost:8080/"
        },
        "outputId": "16ad02e7-7cf0-4810-a9d1-e1860ea70ef2"
      },
      "source": [
        "test_preds = tf.argmax(model1(data.test_data), axis=1,\n",
        "                       output_type=tf.int32)\n",
        "acc = tf.reduce_mean(tf.cast(tf.equal(test_preds, data.test_labels),\n",
        "                             tf.float32))\n",
        "print(\"Test accuracy: {}\".format(acc))\n"
      ],
      "execution_count": 35,
      "outputs": [
        {
          "output_type": "stream",
          "name": "stdout",
          "text": [
            "Test accuracy: 0.9477999806404114\n"
          ]
        }
      ]
    },
    {
      "cell_type": "markdown",
      "source": [
        "#####Initialization=Uniform + Activation=Sigmoid"
      ],
      "metadata": {
        "id": "djsBF3Otth2T"
      }
    },
    {
      "cell_type": "code",
      "source": [
        "W3 = tf.Variable(tf.random.uniform(shape = [784, 128],\n",
        "    minval=-0.1, maxval=0.1, seed=None))\n",
        "b3 = tf.Variable(np.zeros(128, dtype=np.float32))\n",
        "\n",
        "W4 = tf.Variable(tf.random.uniform(shape = [128, 10],\n",
        "    minval=-0.1, maxval=0.1, seed=None))\n",
        "b4 = tf.Variable(np.zeros(10, dtype=np.float32))\n",
        "\n",
        "\n",
        "def model2(inputs):\n",
        "  #Computing the hidden layers - We choose relu activation function\n",
        "  h3 = tf.nn.sigmoid(tf.matmul(inputs,W3)+b3)\n",
        "  h4 = tf.nn.sigmoid(tf.matmul(h3,W4)+b4)\n",
        "\n",
        "\n",
        "\n",
        "  return h4\n",
        "\n"
      ],
      "metadata": {
        "id": "tVaFG8D2m4nD"
      },
      "execution_count": 36,
      "outputs": []
    },
    {
      "cell_type": "code",
      "source": [
        "# training loop\n",
        "\n",
        "for step in range(train_steps+1):\n",
        "    image_batch, label_batch = data.next_batch()\n",
        "\n",
        "    with tf.GradientTape(persistent=True) as tape2:\n",
        "        logits2 = model2(image_batch)\n",
        "        xent2 = tf.reduce_mean(tf.nn.sparse_softmax_cross_entropy_with_logits(\n",
        "            logits=logits2, labels=label_batch))\n",
        "  \n",
        "    grads3 = tape2.gradient(xent2, [W3, b3])\n",
        "    W3.assign_sub(learning_rate * grads3[0])\n",
        "    b3.assign_sub(learning_rate * grads3[1])\n",
        "\n",
        "    grads4 = tape2.gradient(xent2, [W4, b4])\n",
        "    W4.assign_sub(learning_rate * grads4[0])\n",
        "    b4.assign_sub(learning_rate * grads4[1])\n",
        "\n",
        "    \n",
        "    # every so often we print loss/accuracy\n",
        "    if not step % 100:\n",
        "        preds = tf.argmax(logits2, axis=1, output_type=tf.int32)\n",
        "        acc = tf.reduce_mean(tf.cast(tf.equal(preds, label_batch),\n",
        "                             tf.float32))\n",
        "        print(\"Step {}. Batch loss: {} Batch accuracy: {}\".format(step+1, xent2, acc))\n",
        "    \n",
        "del tape2"
      ],
      "metadata": {
        "colab": {
          "base_uri": "https://localhost:8080/"
        },
        "id": "1D5Ynv7jnYeK",
        "outputId": "84601ee1-9bdf-47cf-f275-cfaed07b623f"
      },
      "execution_count": 39,
      "outputs": [
        {
          "output_type": "stream",
          "name": "stdout",
          "text": [
            "Step 1. Batch loss: 1.7207486629486084 Batch accuracy: 0.8671875\n",
            "Step 101. Batch loss: 1.718675971031189 Batch accuracy: 0.859375\n",
            "Step 201. Batch loss: 1.7365882396697998 Batch accuracy: 0.796875\n",
            "Starting new epoch...\n",
            "Step 301. Batch loss: 1.6872715950012207 Batch accuracy: 0.8671875\n",
            "Step 401. Batch loss: 1.695929765701294 Batch accuracy: 0.859375\n",
            "Step 501. Batch loss: 1.7340885400772095 Batch accuracy: 0.828125\n",
            "Step 601. Batch loss: 1.6672061681747437 Batch accuracy: 0.890625\n",
            "Starting new epoch...\n",
            "Step 701. Batch loss: 1.7002074718475342 Batch accuracy: 0.8515625\n",
            "Step 801. Batch loss: 1.6881155967712402 Batch accuracy: 0.875\n",
            "Step 901. Batch loss: 1.7110002040863037 Batch accuracy: 0.8828125\n",
            "Step 1001. Batch loss: 1.6974231004714966 Batch accuracy: 0.7890625\n",
            "Step 1101. Batch loss: 1.6838717460632324 Batch accuracy: 0.8359375\n",
            "Starting new epoch...\n",
            "Step 1201. Batch loss: 1.6746387481689453 Batch accuracy: 0.859375\n",
            "Step 1301. Batch loss: 1.7153035402297974 Batch accuracy: 0.8125\n",
            "Step 1401. Batch loss: 1.6880993843078613 Batch accuracy: 0.8359375\n",
            "Step 1501. Batch loss: 1.6510505676269531 Batch accuracy: 0.8515625\n",
            "Step 1601. Batch loss: 1.67783522605896 Batch accuracy: 0.8359375\n",
            "Starting new epoch...\n",
            "Step 1701. Batch loss: 1.6662230491638184 Batch accuracy: 0.8828125\n",
            "Step 1801. Batch loss: 1.655012607574463 Batch accuracy: 0.8984375\n",
            "Step 1901. Batch loss: 1.651261568069458 Batch accuracy: 0.8828125\n",
            "Step 2001. Batch loss: 1.6604868173599243 Batch accuracy: 0.8515625\n"
          ]
        }
      ]
    },
    {
      "cell_type": "code",
      "metadata": {
        "colab": {
          "base_uri": "https://localhost:8080/"
        },
        "outputId": "60ae3e1c-c255-44c4-85b0-3940945970ed",
        "id": "zCxJ1zw9nysv"
      },
      "source": [
        "test_preds2 = tf.argmax(model2(data.test_data), axis=1,\n",
        "                       output_type=tf.int32)\n",
        "acc2 = tf.reduce_mean(tf.cast(tf.equal(test_preds2, data.test_labels),\n",
        "                             tf.float32))\n",
        "print(\"Test accuracy: {}\".format(acc2))\n"
      ],
      "execution_count": 40,
      "outputs": [
        {
          "output_type": "stream",
          "name": "stdout",
          "text": [
            "Test accuracy: 0.8744999766349792\n"
          ]
        }
      ]
    }
  ]
}